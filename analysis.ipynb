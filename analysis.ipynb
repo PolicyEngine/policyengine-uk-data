{
 "cells": [
  {
   "cell_type": "code",
   "execution_count": 1,
   "id": "76f0651b",
   "metadata": {},
   "outputs": [
    {
     "name": "stderr",
     "output_type": "stream",
     "text": [
      "/Users/nikhilwoodruff/policyengine/policyengine-uk-data/.venv/lib/python3.11/site-packages/tqdm/auto.py:21: TqdmWarning: IProgress not found. Please update jupyter and ipywidgets. See https://ipywidgets.readthedocs.io/en/stable/user_install.html\n",
      "  from .autonotebook import tqdm as notebook_tqdm\n"
     ]
    }
   ],
   "source": [
    "from policyengine_uk import Microsimulation\n",
    "import pandas as pd\n",
    "import h5py\n",
    "from pathlib import Path\n",
    "from policyengine.utils.huggingface import download\n",
    "from policyengine_uk_data.storage import STORAGE_FOLDER\n",
    "from typing import List\n",
    "from policyengine_uk_data.datasets.frs.enhanced_frs import EnhancedFRS_2022_23\n",
    "from policyengine_uk_data.datasets.frs.local_areas.constituencies.calibrate import calibrate\n",
    "\n",
    "\n",
    "REPO = Path(\".\").resolve().parent\n",
    "\n",
    "weights_file_path = STORAGE_FOLDER / \"parliamentary_constituency_weights.h5\"\n",
    "with h5py.File(weights_file_path, \"r\") as f:\n",
    "        weights = f[str(2025)][...]\n",
    "\n",
    "constituencies = pd.read_csv(STORAGE_FOLDER / \"constituencies_2024.csv\")\n",
    "\n",
    "from policyengine_uk_data.datasets.frs.local_areas.constituencies.loss import create_constituency_target_matrix, create_national_target_matrix\n",
    "\n",
    "def get_constituency_performance(weights):\n",
    "    constituency_target_matrix, constituency_actuals, _ = create_constituency_target_matrix(\"enhanced_frs_2022_23\", 2025, None)\n",
    "\n",
    "    constituency_wide = weights @ constituency_target_matrix\n",
    "    constituency_wide.index = constituencies.code.values\n",
    "    constituency_wide[\"name\"] = constituencies.name.values\n",
    "\n",
    "    constituency_results = pd.melt(constituency_wide.reset_index(), id_vars=[\"index\", \"name\"], var_name=\"variable\", value_name=\"value\")\n",
    "\n",
    "    constituency_actuals.index = constituencies.code.values\n",
    "    constituency_actuals[\"name\"] = constituencies.name.values\n",
    "    constituency_actuals_long = pd.melt(constituency_actuals.reset_index(), id_vars=[\"index\", \"name\"], var_name=\"variable\", value_name=\"value\")\n",
    "\n",
    "    constituency_target_validation = pd.merge(constituency_results, constituency_actuals_long, on=[\"index\", \"variable\"], suffixes=(\"_target\", \"_actual\"))\n",
    "    constituency_target_validation.drop(\"name_actual\", axis=1, inplace=True)\n",
    "    constituency_target_validation.columns = [\"index\", \"name\", \"metric\", \"estimate\", \"target\"]\n",
    "\n",
    "    constituency_target_validation[\"error\"] = constituency_target_validation[\"estimate\"] - constituency_target_validation[\"target\"]\n",
    "    constituency_target_validation[\"abs_error\"] = constituency_target_validation[\"error\"].abs()\n",
    "    constituency_target_validation[\"rel_abs_error\"] = constituency_target_validation[\"abs_error\"] / constituency_target_validation[\"target\"]\n",
    "\n",
    "    return constituency_target_validation\n",
    "\n",
    "def get_weights_with_exclude_list(\n",
    "    exclude_list: List[str] | None = None,\n",
    "    should_exclude: bool = True,\n",
    "):\n",
    "    EnhancedFRS_2022_23().generate()\n",
    "\n",
    "    def analytics(w_):\n",
    "        performance = get_constituency_performance(w_)\n",
    "        performance[\"metric_excluded\"] = performance.metric.isin(exclude_list)\n",
    "        return (performance[~performance[\"metric_excluded\"]].abs_error ** 2).mean(), (performance[performance[\"metric_excluded\"]].abs_error ** 2).mean()\n",
    "\n",
    "\n",
    "    weights = calibrate(exclude_targets=exclude_list if should_exclude else [], epochs=250, analytics=analytics)\n",
    "\n",
    "    return weights"
   ]
  },
  {
   "cell_type": "code",
   "execution_count": 2,
   "id": "d6bedfae",
   "metadata": {},
   "outputs": [
    {
     "name": "stdout",
     "output_type": "stream",
     "text": [
      "Loss: 8.697927474975586, Epoch: 0, Constituency<10%: 11.1%, National<10%: 3.9%\n",
      "(1.445586234280882e+17, 24765395.08905384)\n",
      "Loss: 6.540287971496582, Epoch: 1, Constituency<10%: 13.5%, National<10%: 4.5%\n",
      "Loss: 4.908971309661865, Epoch: 2, Constituency<10%: 16.9%, National<10%: 7.2%\n",
      "Loss: 3.7292542457580566, Epoch: 3, Constituency<10%: 20.0%, National<10%: 11.3%\n",
      "Loss: 2.8773155212402344, Epoch: 4, Constituency<10%: 22.2%, National<10%: 19.4%\n",
      "Loss: 2.244055986404419, Epoch: 5, Constituency<10%: 24.7%, National<10%: 29.3%\n",
      "Loss: 1.7912296056747437, Epoch: 6, Constituency<10%: 26.5%, National<10%: 37.0%\n",
      "Loss: 1.4615260362625122, Epoch: 7, Constituency<10%: 28.2%, National<10%: 35.2%\n",
      "Loss: 1.2095162868499756, Epoch: 8, Constituency<10%: 29.7%, National<10%: 30.1%\n",
      "Loss: 1.0173256397247314, Epoch: 9, Constituency<10%: 31.9%, National<10%: 30.1%\n",
      "Loss: 0.866382360458374, Epoch: 10, Constituency<10%: 34.3%, National<10%: 31.0%\n",
      "(8.896352824424206e+16, 13157800.896526517)\n",
      "Loss: 0.7467900514602661, Epoch: 11, Constituency<10%: 35.7%, National<10%: 34.6%\n",
      "Loss: 0.6512999534606934, Epoch: 12, Constituency<10%: 36.6%, National<10%: 36.1%\n",
      "Loss: 0.5704777240753174, Epoch: 13, Constituency<10%: 37.7%, National<10%: 41.5%\n",
      "Loss: 0.5061689615249634, Epoch: 14, Constituency<10%: 39.1%, National<10%: 44.8%\n",
      "Loss: 0.45175811648368835, Epoch: 15, Constituency<10%: 40.1%, National<10%: 47.2%\n",
      "Loss: 0.40625572204589844, Epoch: 16, Constituency<10%: 40.9%, National<10%: 49.6%\n",
      "Loss: 0.3677622079849243, Epoch: 17, Constituency<10%: 43.1%, National<10%: 50.4%\n",
      "Loss: 0.3341529965400696, Epoch: 18, Constituency<10%: 45.5%, National<10%: 51.9%\n",
      "Loss: 0.3067496418952942, Epoch: 19, Constituency<10%: 48.1%, National<10%: 53.4%\n",
      "Loss: 0.2832930088043213, Epoch: 20, Constituency<10%: 50.1%, National<10%: 51.3%\n",
      "(6.1422920473756264e+16, 3286166.1381106446)\n",
      "Loss: 0.2634393572807312, Epoch: 21, Constituency<10%: 52.0%, National<10%: 51.9%\n",
      "Loss: 0.24669970571994781, Epoch: 22, Constituency<10%: 53.8%, National<10%: 49.3%\n",
      "Loss: 0.23106661438941956, Epoch: 23, Constituency<10%: 55.2%, National<10%: 50.1%\n",
      "Loss: 0.21689730882644653, Epoch: 24, Constituency<10%: 55.6%, National<10%: 50.4%\n",
      "Loss: 0.20449799299240112, Epoch: 25, Constituency<10%: 57.0%, National<10%: 53.1%\n",
      "Loss: 0.19325347244739532, Epoch: 26, Constituency<10%: 58.7%, National<10%: 55.8%\n",
      "Loss: 0.18332143127918243, Epoch: 27, Constituency<10%: 60.3%, National<10%: 57.9%\n",
      "Loss: 0.1750164031982422, Epoch: 28, Constituency<10%: 60.8%, National<10%: 56.1%\n",
      "Loss: 0.16792291402816772, Epoch: 29, Constituency<10%: 61.2%, National<10%: 57.6%\n",
      "Loss: 0.16165032982826233, Epoch: 30, Constituency<10%: 62.5%, National<10%: 59.1%\n",
      "(4.763891671599869e+16, 3400654.9625509777)\n",
      "Loss: 0.1561998575925827, Epoch: 31, Constituency<10%: 63.7%, National<10%: 60.0%\n",
      "Loss: 0.15119045972824097, Epoch: 32, Constituency<10%: 64.5%, National<10%: 60.0%\n",
      "Loss: 0.14670628309249878, Epoch: 33, Constituency<10%: 65.2%, National<10%: 62.1%\n",
      "Loss: 0.14235830307006836, Epoch: 34, Constituency<10%: 66.1%, National<10%: 63.3%\n",
      "Loss: 0.13843302428722382, Epoch: 35, Constituency<10%: 68.4%, National<10%: 64.5%\n",
      "Loss: 0.13486433029174805, Epoch: 36, Constituency<10%: 69.8%, National<10%: 64.8%\n",
      "Loss: 0.1315348595380783, Epoch: 37, Constituency<10%: 71.3%, National<10%: 66.9%\n",
      "Loss: 0.12864981591701508, Epoch: 38, Constituency<10%: 72.2%, National<10%: 66.6%\n",
      "Loss: 0.12579938769340515, Epoch: 39, Constituency<10%: 72.6%, National<10%: 67.8%\n",
      "Loss: 0.12295851111412048, Epoch: 40, Constituency<10%: 73.3%, National<10%: 69.9%\n",
      "(3.4611071739690596e+16, 3212776.6306955456)\n",
      "Loss: 0.12030377984046936, Epoch: 41, Constituency<10%: 73.8%, National<10%: 70.7%\n",
      "Loss: 0.11760686337947845, Epoch: 42, Constituency<10%: 74.5%, National<10%: 71.9%\n",
      "Loss: 0.11511120945215225, Epoch: 43, Constituency<10%: 75.6%, National<10%: 72.5%\n",
      "Loss: 0.11268063634634018, Epoch: 44, Constituency<10%: 76.9%, National<10%: 71.9%\n",
      "Loss: 0.11059366166591644, Epoch: 45, Constituency<10%: 77.5%, National<10%: 71.3%\n",
      "Loss: 0.10834955424070358, Epoch: 46, Constituency<10%: 78.4%, National<10%: 73.7%\n",
      "Loss: 0.10683150589466095, Epoch: 47, Constituency<10%: 79.3%, National<10%: 74.6%\n",
      "Loss: 0.1051398366689682, Epoch: 48, Constituency<10%: 80.5%, National<10%: 74.9%\n",
      "Loss: 0.10381634533405304, Epoch: 49, Constituency<10%: 80.7%, National<10%: 74.9%\n",
      "Loss: 0.10236528515815735, Epoch: 50, Constituency<10%: 81.4%, National<10%: 76.1%\n",
      "(2.8124913354638548e+16, 3200322.514506906)\n",
      "Loss: 0.10108977556228638, Epoch: 51, Constituency<10%: 81.9%, National<10%: 76.4%\n",
      "Loss: 0.0997958555817604, Epoch: 52, Constituency<10%: 82.4%, National<10%: 77.6%\n",
      "Loss: 0.09872408211231232, Epoch: 53, Constituency<10%: 82.4%, National<10%: 79.7%\n",
      "Loss: 0.09744870662689209, Epoch: 54, Constituency<10%: 83.6%, National<10%: 80.0%\n",
      "Loss: 0.09635649621486664, Epoch: 55, Constituency<10%: 84.4%, National<10%: 79.4%\n",
      "Loss: 0.09527745842933655, Epoch: 56, Constituency<10%: 85.4%, National<10%: 80.0%\n",
      "Loss: 0.09436724334955215, Epoch: 57, Constituency<10%: 86.3%, National<10%: 79.4%\n",
      "Loss: 0.09351958334445953, Epoch: 58, Constituency<10%: 86.9%, National<10%: 80.0%\n",
      "Loss: 0.09256156533956528, Epoch: 59, Constituency<10%: 87.5%, National<10%: 79.7%\n",
      "Loss: 0.09175896644592285, Epoch: 60, Constituency<10%: 87.6%, National<10%: 80.6%\n",
      "(2.5496811495884944e+16, 3538173.5338112437)\n",
      "Loss: 0.09102135896682739, Epoch: 61, Constituency<10%: 88.2%, National<10%: 80.0%\n",
      "Loss: 0.09014230221509933, Epoch: 62, Constituency<10%: 88.9%, National<10%: 80.6%\n",
      "Loss: 0.08954847604036331, Epoch: 63, Constituency<10%: 88.9%, National<10%: 80.3%\n",
      "Loss: 0.08883488178253174, Epoch: 64, Constituency<10%: 88.9%, National<10%: 80.6%\n",
      "Loss: 0.0882151871919632, Epoch: 65, Constituency<10%: 89.3%, National<10%: 80.9%\n",
      "Loss: 0.08751267194747925, Epoch: 66, Constituency<10%: 89.4%, National<10%: 80.3%\n",
      "Loss: 0.08701911568641663, Epoch: 67, Constituency<10%: 90.0%, National<10%: 80.3%\n",
      "Loss: 0.08642323315143585, Epoch: 68, Constituency<10%: 90.3%, National<10%: 80.6%\n",
      "Loss: 0.08582621812820435, Epoch: 69, Constituency<10%: 90.5%, National<10%: 80.9%\n",
      "Loss: 0.08527271449565887, Epoch: 70, Constituency<10%: 91.1%, National<10%: 80.3%\n",
      "(2.3697019067721184e+16, 3870045.896188659)\n",
      "Loss: 0.08475596457719803, Epoch: 71, Constituency<10%: 91.2%, National<10%: 81.8%\n",
      "Loss: 0.08424706012010574, Epoch: 72, Constituency<10%: 91.6%, National<10%: 81.2%\n",
      "Loss: 0.08370018750429153, Epoch: 73, Constituency<10%: 92.0%, National<10%: 81.2%\n",
      "Loss: 0.08322878181934357, Epoch: 74, Constituency<10%: 91.9%, National<10%: 80.9%\n",
      "Loss: 0.08276250958442688, Epoch: 75, Constituency<10%: 92.5%, National<10%: 81.5%\n",
      "Loss: 0.0822872444987297, Epoch: 76, Constituency<10%: 92.3%, National<10%: 81.8%\n",
      "Loss: 0.08193487673997879, Epoch: 77, Constituency<10%: 92.2%, National<10%: 82.7%\n",
      "Loss: 0.08140876889228821, Epoch: 78, Constituency<10%: 92.5%, National<10%: 81.8%\n",
      "Loss: 0.0809250995516777, Epoch: 79, Constituency<10%: 92.9%, National<10%: 82.1%\n",
      "Loss: 0.08057643473148346, Epoch: 80, Constituency<10%: 93.0%, National<10%: 82.1%\n",
      "(2.2447184295498004e+16, 4430044.129995941)\n",
      "Loss: 0.08017812669277191, Epoch: 81, Constituency<10%: 93.0%, National<10%: 81.8%\n",
      "Loss: 0.07978896051645279, Epoch: 82, Constituency<10%: 93.2%, National<10%: 81.8%\n",
      "Loss: 0.07934458553791046, Epoch: 83, Constituency<10%: 93.3%, National<10%: 82.1%\n",
      "Loss: 0.07908673584461212, Epoch: 84, Constituency<10%: 93.5%, National<10%: 81.8%\n",
      "Loss: 0.07860320061445236, Epoch: 85, Constituency<10%: 94.0%, National<10%: 82.1%\n",
      "Loss: 0.07838528603315353, Epoch: 86, Constituency<10%: 93.6%, National<10%: 82.4%\n",
      "Loss: 0.07798384875059128, Epoch: 87, Constituency<10%: 94.2%, National<10%: 82.4%\n",
      "Loss: 0.07760679721832275, Epoch: 88, Constituency<10%: 94.0%, National<10%: 82.4%\n",
      "Loss: 0.07728620618581772, Epoch: 89, Constituency<10%: 93.9%, National<10%: 83.0%\n",
      "Loss: 0.07695307582616806, Epoch: 90, Constituency<10%: 94.6%, National<10%: 82.4%\n",
      "(2.0234626085126716e+16, 4644161.197800896)\n",
      "Loss: 0.07664857059717178, Epoch: 91, Constituency<10%: 94.5%, National<10%: 83.0%\n",
      "Loss: 0.07637286186218262, Epoch: 92, Constituency<10%: 94.6%, National<10%: 83.0%\n",
      "Loss: 0.07601531594991684, Epoch: 93, Constituency<10%: 94.6%, National<10%: 82.7%\n",
      "Loss: 0.07576313614845276, Epoch: 94, Constituency<10%: 94.6%, National<10%: 82.4%\n",
      "Loss: 0.07538940012454987, Epoch: 95, Constituency<10%: 95.0%, National<10%: 83.0%\n",
      "Loss: 0.0750410184264183, Epoch: 96, Constituency<10%: 94.7%, National<10%: 83.0%\n",
      "Loss: 0.07472139596939087, Epoch: 97, Constituency<10%: 94.9%, National<10%: 83.9%\n",
      "Loss: 0.07453154772520065, Epoch: 98, Constituency<10%: 95.0%, National<10%: 83.0%\n",
      "Loss: 0.07418859004974365, Epoch: 99, Constituency<10%: 95.1%, National<10%: 83.3%\n",
      "Loss: 0.07385921478271484, Epoch: 100, Constituency<10%: 95.5%, National<10%: 83.3%\n",
      "(1.9604754752557868e+16, 4741747.713972989)\n",
      "Loss: 0.07370834797620773, Epoch: 101, Constituency<10%: 95.4%, National<10%: 83.9%\n",
      "Loss: 0.07338564097881317, Epoch: 102, Constituency<10%: 95.3%, National<10%: 83.6%\n",
      "Loss: 0.07311919331550598, Epoch: 103, Constituency<10%: 95.1%, National<10%: 83.9%\n",
      "Loss: 0.07291264832019806, Epoch: 104, Constituency<10%: 95.3%, National<10%: 83.6%\n",
      "Loss: 0.07262015342712402, Epoch: 105, Constituency<10%: 95.6%, National<10%: 83.3%\n",
      "Loss: 0.07226410508155823, Epoch: 106, Constituency<10%: 95.8%, National<10%: 83.3%\n",
      "Loss: 0.07209400087594986, Epoch: 107, Constituency<10%: 95.2%, National<10%: 84.5%\n",
      "Loss: 0.07183957099914551, Epoch: 108, Constituency<10%: 95.7%, National<10%: 83.9%\n",
      "Loss: 0.07162807136774063, Epoch: 109, Constituency<10%: 95.2%, National<10%: 83.9%\n",
      "Loss: 0.07129260152578354, Epoch: 110, Constituency<10%: 95.7%, National<10%: 83.9%\n",
      "(1.8366147488961948e+16, 4719859.89462277)\n",
      "Loss: 0.07111143320798874, Epoch: 111, Constituency<10%: 95.7%, National<10%: 84.2%\n",
      "Loss: 0.07090059667825699, Epoch: 112, Constituency<10%: 95.4%, National<10%: 83.9%\n",
      "Loss: 0.07067496329545975, Epoch: 113, Constituency<10%: 95.6%, National<10%: 83.3%\n",
      "Loss: 0.07048384845256805, Epoch: 114, Constituency<10%: 95.6%, National<10%: 84.8%\n",
      "Loss: 0.07018247991800308, Epoch: 115, Constituency<10%: 95.4%, National<10%: 83.3%\n",
      "Loss: 0.07010853290557861, Epoch: 116, Constituency<10%: 95.6%, National<10%: 84.5%\n",
      "Loss: 0.06980053335428238, Epoch: 117, Constituency<10%: 95.6%, National<10%: 84.2%\n",
      "Loss: 0.06960327923297882, Epoch: 118, Constituency<10%: 95.7%, National<10%: 83.6%\n",
      "Loss: 0.0694093257188797, Epoch: 119, Constituency<10%: 95.5%, National<10%: 84.5%\n",
      "Loss: 0.06901788711547852, Epoch: 120, Constituency<10%: 95.9%, National<10%: 84.2%\n",
      "(1.7963022977790438e+16, 5142787.726970505)\n",
      "Loss: 0.06894546002149582, Epoch: 121, Constituency<10%: 95.6%, National<10%: 84.2%\n",
      "Loss: 0.06876881420612335, Epoch: 122, Constituency<10%: 95.6%, National<10%: 83.9%\n",
      "Loss: 0.0686068907380104, Epoch: 123, Constituency<10%: 95.0%, National<10%: 83.9%\n",
      "Loss: 0.06832942366600037, Epoch: 124, Constituency<10%: 95.9%, National<10%: 83.6%\n",
      "Loss: 0.06816788762807846, Epoch: 125, Constituency<10%: 96.1%, National<10%: 83.9%\n",
      "Loss: 0.06795705854892731, Epoch: 126, Constituency<10%: 95.6%, National<10%: 84.5%\n",
      "Loss: 0.06778000295162201, Epoch: 127, Constituency<10%: 95.7%, National<10%: 84.5%\n",
      "Loss: 0.0675763487815857, Epoch: 128, Constituency<10%: 95.8%, National<10%: 83.9%\n",
      "Loss: 0.06738852709531784, Epoch: 129, Constituency<10%: 95.8%, National<10%: 83.9%\n",
      "Loss: 0.06723809242248535, Epoch: 130, Constituency<10%: 95.8%, National<10%: 84.2%\n",
      "(1.6626240836008528e+16, 5163767.142977333)\n",
      "Loss: 0.06713708490133286, Epoch: 131, Constituency<10%: 95.7%, National<10%: 84.2%\n",
      "Loss: 0.06682959198951721, Epoch: 132, Constituency<10%: 95.9%, National<10%: 83.6%\n",
      "Loss: 0.06675240397453308, Epoch: 133, Constituency<10%: 95.7%, National<10%: 84.5%\n",
      "Loss: 0.06652877479791641, Epoch: 134, Constituency<10%: 95.6%, National<10%: 84.5%\n",
      "Loss: 0.06631340831518173, Epoch: 135, Constituency<10%: 95.9%, National<10%: 84.2%\n",
      "Loss: 0.06626550108194351, Epoch: 136, Constituency<10%: 95.5%, National<10%: 84.2%\n",
      "Loss: 0.06606891751289368, Epoch: 137, Constituency<10%: 95.8%, National<10%: 84.2%\n",
      "Loss: 0.06580966711044312, Epoch: 138, Constituency<10%: 96.0%, National<10%: 85.1%\n",
      "Loss: 0.0656634047627449, Epoch: 139, Constituency<10%: 95.9%, National<10%: 84.5%\n",
      "Loss: 0.06554915010929108, Epoch: 140, Constituency<10%: 95.7%, National<10%: 84.5%\n",
      "(1.5645395592006754e+16, 5355411.272534943)\n",
      "Loss: 0.06538264453411102, Epoch: 141, Constituency<10%: 95.7%, National<10%: 84.8%\n",
      "Loss: 0.06522398442029953, Epoch: 142, Constituency<10%: 95.9%, National<10%: 84.5%\n",
      "Loss: 0.06507646292448044, Epoch: 143, Constituency<10%: 95.8%, National<10%: 83.6%\n",
      "Loss: 0.06487812101840973, Epoch: 144, Constituency<10%: 96.0%, National<10%: 83.6%\n",
      "Loss: 0.0648052990436554, Epoch: 145, Constituency<10%: 95.9%, National<10%: 84.5%\n",
      "Loss: 0.06455074995756149, Epoch: 146, Constituency<10%: 96.0%, National<10%: 84.5%\n",
      "Loss: 0.06444097310304642, Epoch: 147, Constituency<10%: 96.2%, National<10%: 83.9%\n",
      "Loss: 0.06432466208934784, Epoch: 148, Constituency<10%: 95.9%, National<10%: 84.5%\n",
      "Loss: 0.06418975442647934, Epoch: 149, Constituency<10%: 95.7%, National<10%: 83.9%\n",
      "Loss: 0.06397856771945953, Epoch: 150, Constituency<10%: 95.8%, National<10%: 84.5%\n",
      "(1.6339868834352566e+16, 5400651.767714365)\n",
      "Loss: 0.06381291151046753, Epoch: 151, Constituency<10%: 96.1%, National<10%: 84.2%\n",
      "Loss: 0.06380423903465271, Epoch: 152, Constituency<10%: 95.6%, National<10%: 84.2%\n",
      "Loss: 0.06356828659772873, Epoch: 153, Constituency<10%: 96.1%, National<10%: 83.9%\n",
      "Loss: 0.06352656334638596, Epoch: 154, Constituency<10%: 95.7%, National<10%: 84.5%\n",
      "Loss: 0.06336899846792221, Epoch: 155, Constituency<10%: 96.0%, National<10%: 84.2%\n",
      "Loss: 0.06324835866689682, Epoch: 156, Constituency<10%: 95.6%, National<10%: 83.9%\n",
      "Loss: 0.06311053782701492, Epoch: 157, Constituency<10%: 95.6%, National<10%: 84.5%\n",
      "Loss: 0.06294757127761841, Epoch: 158, Constituency<10%: 95.9%, National<10%: 84.2%\n",
      "Loss: 0.06280820816755295, Epoch: 159, Constituency<10%: 95.9%, National<10%: 84.2%\n",
      "Loss: 0.0627024695277214, Epoch: 160, Constituency<10%: 96.1%, National<10%: 83.6%\n",
      "(1.461955658107708e+16, 5646070.278982388)\n",
      "Loss: 0.06261873245239258, Epoch: 161, Constituency<10%: 95.9%, National<10%: 83.6%\n",
      "Loss: 0.06241387128829956, Epoch: 162, Constituency<10%: 95.9%, National<10%: 83.9%\n",
      "Loss: 0.062258701771497726, Epoch: 163, Constituency<10%: 95.8%, National<10%: 84.2%\n",
      "Loss: 0.062073033303022385, Epoch: 164, Constituency<10%: 95.9%, National<10%: 84.2%\n",
      "Loss: 0.06201072782278061, Epoch: 165, Constituency<10%: 96.2%, National<10%: 84.8%\n",
      "Loss: 0.06199974939227104, Epoch: 166, Constituency<10%: 95.8%, National<10%: 84.2%\n",
      "Loss: 0.06181655451655388, Epoch: 167, Constituency<10%: 96.0%, National<10%: 84.2%\n",
      "Loss: 0.06171845644712448, Epoch: 168, Constituency<10%: 96.0%, National<10%: 83.9%\n",
      "Loss: 0.06152082607150078, Epoch: 169, Constituency<10%: 96.0%, National<10%: 84.5%\n",
      "Loss: 0.06137692928314209, Epoch: 170, Constituency<10%: 96.1%, National<10%: 84.8%\n",
      "(1.4919141851723996e+16, 5290682.365516078)\n",
      "Loss: 0.06129797548055649, Epoch: 171, Constituency<10%: 95.9%, National<10%: 85.4%\n",
      "Loss: 0.06118357926607132, Epoch: 172, Constituency<10%: 95.9%, National<10%: 84.8%\n",
      "Loss: 0.06099631264805794, Epoch: 173, Constituency<10%: 96.2%, National<10%: 85.1%\n",
      "Loss: 0.060900185257196426, Epoch: 174, Constituency<10%: 96.4%, National<10%: 85.1%\n",
      "Loss: 0.06074576452374458, Epoch: 175, Constituency<10%: 96.1%, National<10%: 85.1%\n",
      "Loss: 0.06079426780343056, Epoch: 176, Constituency<10%: 96.1%, National<10%: 85.4%\n",
      "Loss: 0.060737237334251404, Epoch: 177, Constituency<10%: 96.0%, National<10%: 84.8%\n",
      "Loss: 0.060574620962142944, Epoch: 178, Constituency<10%: 95.8%, National<10%: 85.1%\n",
      "Loss: 0.06051914393901825, Epoch: 179, Constituency<10%: 95.8%, National<10%: 85.1%\n",
      "Loss: 0.06048228591680527, Epoch: 180, Constituency<10%: 96.0%, National<10%: 85.1%\n",
      "(1.4264303806668484e+16, 5470592.951350743)\n",
      "Loss: 0.06029636412858963, Epoch: 181, Constituency<10%: 96.1%, National<10%: 85.7%\n",
      "Loss: 0.06015032157301903, Epoch: 182, Constituency<10%: 96.1%, National<10%: 85.4%\n",
      "Loss: 0.060095060616731644, Epoch: 183, Constituency<10%: 96.2%, National<10%: 85.1%\n",
      "Loss: 0.05994122102856636, Epoch: 184, Constituency<10%: 96.2%, National<10%: 84.5%\n",
      "Loss: 0.05984446033835411, Epoch: 185, Constituency<10%: 95.9%, National<10%: 85.1%\n",
      "Loss: 0.05969995632767677, Epoch: 186, Constituency<10%: 96.0%, National<10%: 85.1%\n",
      "Loss: 0.0597829706966877, Epoch: 187, Constituency<10%: 95.7%, National<10%: 84.8%\n",
      "Loss: 0.05945788323879242, Epoch: 188, Constituency<10%: 96.5%, National<10%: 85.1%\n",
      "Loss: 0.05941181257367134, Epoch: 189, Constituency<10%: 96.0%, National<10%: 85.4%\n",
      "Loss: 0.0594327375292778, Epoch: 190, Constituency<10%: 95.8%, National<10%: 84.5%\n",
      "(1.312706122960407e+16, 5695844.21519407)\n",
      "Loss: 0.05939888581633568, Epoch: 191, Constituency<10%: 95.8%, National<10%: 84.8%\n",
      "Loss: 0.05915072560310364, Epoch: 192, Constituency<10%: 96.2%, National<10%: 85.1%\n",
      "Loss: 0.059176359325647354, Epoch: 193, Constituency<10%: 96.0%, National<10%: 85.1%\n",
      "Loss: 0.058959390968084335, Epoch: 194, Constituency<10%: 96.3%, National<10%: 84.5%\n",
      "Loss: 0.0589224249124527, Epoch: 195, Constituency<10%: 96.2%, National<10%: 84.8%\n",
      "Loss: 0.05880676582455635, Epoch: 196, Constituency<10%: 96.3%, National<10%: 85.1%\n",
      "Loss: 0.05871552228927612, Epoch: 197, Constituency<10%: 95.8%, National<10%: 85.7%\n",
      "Loss: 0.058537840843200684, Epoch: 198, Constituency<10%: 96.2%, National<10%: 85.1%\n",
      "Loss: 0.058527763932943344, Epoch: 199, Constituency<10%: 96.1%, National<10%: 85.1%\n",
      "Loss: 0.05837702006101608, Epoch: 200, Constituency<10%: 96.3%, National<10%: 84.8%\n",
      "(1.3304520922160244e+16, 5526722.905208248)\n",
      "Loss: 0.05830137059092522, Epoch: 201, Constituency<10%: 96.1%, National<10%: 85.1%\n",
      "Loss: 0.058372437953948975, Epoch: 202, Constituency<10%: 95.7%, National<10%: 84.2%\n",
      "Loss: 0.05812661349773407, Epoch: 203, Constituency<10%: 96.4%, National<10%: 85.1%\n",
      "Loss: 0.05799373984336853, Epoch: 204, Constituency<10%: 96.6%, National<10%: 85.1%\n",
      "Loss: 0.058014169335365295, Epoch: 205, Constituency<10%: 96.2%, National<10%: 85.4%\n",
      "Loss: 0.057888999581336975, Epoch: 206, Constituency<10%: 96.1%, National<10%: 85.4%\n",
      "Loss: 0.05785490572452545, Epoch: 207, Constituency<10%: 96.4%, National<10%: 85.4%\n",
      "Loss: 0.05777452886104584, Epoch: 208, Constituency<10%: 96.1%, National<10%: 84.8%\n",
      "Loss: 0.05766797438263893, Epoch: 209, Constituency<10%: 96.6%, National<10%: 85.7%\n",
      "Loss: 0.057565804570913315, Epoch: 210, Constituency<10%: 96.4%, National<10%: 85.1%\n",
      "(1.2588699126179552e+16, 5471004.545510549)\n",
      "Loss: 0.05760051682591438, Epoch: 211, Constituency<10%: 95.9%, National<10%: 85.4%\n",
      "Loss: 0.057509392499923706, Epoch: 212, Constituency<10%: 95.9%, National<10%: 86.0%\n",
      "Loss: 0.05735092610120773, Epoch: 213, Constituency<10%: 96.2%, National<10%: 86.0%\n",
      "Loss: 0.05724383518099785, Epoch: 214, Constituency<10%: 96.4%, National<10%: 85.4%\n",
      "Loss: 0.05713730677962303, Epoch: 215, Constituency<10%: 96.6%, National<10%: 85.4%\n",
      "Loss: 0.05725238472223282, Epoch: 216, Constituency<10%: 96.4%, National<10%: 85.4%\n",
      "Loss: 0.0569281205534935, Epoch: 217, Constituency<10%: 96.4%, National<10%: 85.4%\n",
      "Loss: 0.057035181671381, Epoch: 218, Constituency<10%: 96.0%, National<10%: 85.1%\n",
      "Loss: 0.05688935145735741, Epoch: 219, Constituency<10%: 96.1%, National<10%: 85.7%\n",
      "Loss: 0.0568523108959198, Epoch: 220, Constituency<10%: 96.2%, National<10%: 85.4%\n",
      "(1.3762941835130928e+16, 5422508.993791029)\n",
      "Loss: 0.05666067451238632, Epoch: 221, Constituency<10%: 96.7%, National<10%: 85.1%\n",
      "Loss: 0.056706711649894714, Epoch: 222, Constituency<10%: 96.3%, National<10%: 85.4%\n",
      "Loss: 0.05656355246901512, Epoch: 223, Constituency<10%: 96.7%, National<10%: 85.1%\n",
      "Loss: 0.05651639401912689, Epoch: 224, Constituency<10%: 96.6%, National<10%: 85.7%\n",
      "Loss: 0.05670033022761345, Epoch: 225, Constituency<10%: 95.9%, National<10%: 85.1%\n",
      "Loss: 0.05637567117810249, Epoch: 226, Constituency<10%: 96.4%, National<10%: 85.7%\n",
      "Loss: 0.05645018443465233, Epoch: 227, Constituency<10%: 96.5%, National<10%: 85.1%\n",
      "Loss: 0.056297313421964645, Epoch: 228, Constituency<10%: 96.5%, National<10%: 85.7%\n",
      "Loss: 0.05610537528991699, Epoch: 229, Constituency<10%: 96.6%, National<10%: 85.4%\n",
      "Loss: 0.05624733492732048, Epoch: 230, Constituency<10%: 96.0%, National<10%: 85.4%\n",
      "(1.3771378149001366e+16, 5283443.13253886)\n",
      "Loss: 0.05595114082098007, Epoch: 231, Constituency<10%: 96.7%, National<10%: 85.1%\n",
      "Loss: 0.05608125030994415, Epoch: 232, Constituency<10%: 96.1%, National<10%: 85.7%\n",
      "Loss: 0.055967532098293304, Epoch: 233, Constituency<10%: 96.1%, National<10%: 86.0%\n",
      "Loss: 0.055761970579624176, Epoch: 234, Constituency<10%: 96.5%, National<10%: 86.0%\n",
      "Loss: 0.05579717457294464, Epoch: 235, Constituency<10%: 96.5%, National<10%: 85.7%\n",
      "Loss: 0.055692803114652634, Epoch: 236, Constituency<10%: 96.8%, National<10%: 85.4%\n",
      "Loss: 0.0557313971221447, Epoch: 237, Constituency<10%: 96.1%, National<10%: 85.7%\n",
      "Loss: 0.055606991052627563, Epoch: 238, Constituency<10%: 96.3%, National<10%: 85.1%\n",
      "Loss: 0.055501505732536316, Epoch: 239, Constituency<10%: 96.4%, National<10%: 85.7%\n",
      "Loss: 0.05549192428588867, Epoch: 240, Constituency<10%: 96.1%, National<10%: 85.1%\n",
      "(1.3802879820601716e+16, 5244650.490166688)\n",
      "Loss: 0.05536063387989998, Epoch: 241, Constituency<10%: 96.7%, National<10%: 85.4%\n",
      "Loss: 0.05532483384013176, Epoch: 242, Constituency<10%: 96.3%, National<10%: 85.1%\n",
      "Loss: 0.0552835650742054, Epoch: 243, Constituency<10%: 96.2%, National<10%: 85.7%\n",
      "Loss: 0.0552823580801487, Epoch: 244, Constituency<10%: 96.1%, National<10%: 85.4%\n",
      "Loss: 0.05508194863796234, Epoch: 245, Constituency<10%: 96.6%, National<10%: 85.4%\n",
      "Loss: 0.05500603839755058, Epoch: 246, Constituency<10%: 96.6%, National<10%: 85.7%\n",
      "Loss: 0.05507881939411163, Epoch: 247, Constituency<10%: 96.3%, National<10%: 86.0%\n",
      "Loss: 0.055064670741558075, Epoch: 248, Constituency<10%: 96.2%, National<10%: 85.1%\n",
      "Loss: 0.054936427623033524, Epoch: 249, Constituency<10%: 96.2%, National<10%: 85.7%\n"
     ]
    }
   ],
   "source": [
    "import numpy as np\n",
    "constituency_target_matrix, constituency_actuals, _ = create_constituency_target_matrix(\"enhanced_frs_2022_23\", 2025, None)\n",
    "excluded = np.random.choice(constituency_target_matrix.columns, size=int(0.1 * constituency_target_matrix.shape[1]), replace=False)\n",
    "weights, performance = get_weights_with_exclude_list(exclude_list=excluded)"
   ]
  },
  {
   "cell_type": "code",
   "execution_count": 6,
   "id": "77e752c3",
   "metadata": {},
   "outputs": [
    {
     "data": {
      "text/html": [
       "\n",
       "    <link rel=\"preconnect\" href=\"https://fonts.googleapis.com\">\n",
       "    <link rel=\"preconnect\" href=\"https://fonts.gstatic.com\" crossorigin>\n",
       "    <link href=\"https://fonts.googleapis.com/css2?family=Roboto+Serif:ital,opsz,wght@0,8..144,100..900;1,8..144,100..900&display=swap\" rel=\"stylesheet\">\n",
       "    "
      ]
     },
     "metadata": {},
     "output_type": "display_data"
    }
   ],
   "source": [
    "from policyengine.utils.charts import *\n",
    "\n",
    "add_fonts()"
   ]
  },
  {
   "cell_type": "code",
   "execution_count": 15,
   "id": "d4f1aaf8",
   "metadata": {},
   "outputs": [
    {
     "data": {
      "application/vnd.plotly.v1+json": {
       "config": {
        "plotlyServerURL": "https://plot.ly"
       },
       "data": [
        {
         "hovertemplate": "variable=Calibrated<br>Epoch=%{x}<br>value=%{y}<extra></extra>",
         "legendgroup": "Calibrated",
         "line": {
          "color": "#4C78A8",
          "dash": "solid"
         },
         "marker": {
          "symbol": "circle"
         },
         "mode": "lines",
         "name": "Calibrated",
         "orientation": "v",
         "showlegend": true,
         "type": "scatter",
         "x": [
          0,
          10,
          20,
          30,
          40,
          50,
          60,
          70,
          80,
          90,
          100,
          110,
          120,
          130,
          140,
          150,
          160,
          170,
          180,
          190,
          200,
          210,
          220,
          230,
          240
         ],
         "xaxis": "x",
         "y": [
          0,
          -0.38458511754922975,
          -0.5751002671638501,
          -0.6704526123293015,
          -0.7605741468829901,
          -0.8054428529569562,
          -0.8236230334016115,
          -0.8360732932718506,
          -0.8447191612428121,
          -0.8600247733045646,
          -0.8643819767534628,
          -0.8729501772123727,
          -0.8757388348628936,
          -0.8849861707193181,
          -0.8917712743730596,
          -0.8869671801870681,
          -0.8988676273031219,
          -0.8967952136100297,
          -0.9013251270079756,
          -0.9091921262232119,
          -0.9079645294991434,
          -0.9129163046268084,
          -0.9047933529750481,
          -0.9047349938563019,
          -0.9045170776168323
         ],
         "yaxis": "y"
        },
        {
         "hovertemplate": "variable=Holdout<br>Epoch=%{x}<br>value=%{y}<extra></extra>",
         "legendgroup": "Holdout",
         "line": {
          "color": "#F58518",
          "dash": "solid"
         },
         "marker": {
          "symbol": "circle"
         },
         "mode": "lines",
         "name": "Holdout",
         "orientation": "v",
         "showlegend": true,
         "type": "scatter",
         "x": [
          0,
          10,
          20,
          30,
          40,
          50,
          60,
          70,
          80,
          90,
          100,
          110,
          120,
          130,
          140,
          150,
          160,
          170,
          180,
          190,
          200,
          210,
          220,
          230,
          240
         ],
         "xaxis": "x",
         "y": [
          0,
          -0.46870216084934624,
          -0.8673081480713744,
          -0.8626852125587915,
          -0.8702715373955179,
          -0.870774421203503,
          -0.8571323606553285,
          -0.8437317118393481,
          -0.8211195858549418,
          -0.8124737690999492,
          -0.8085333306041698,
          -0.8094171371928195,
          -0.7923397664976648,
          -0.7914926402583544,
          -0.7837542565633445,
          -0.7819274940579719,
          -0.7720177587040427,
          -0.7863679401644382,
          -0.7791033443367632,
          -0.7700079407288923,
          -0.7768368772097229,
          -0.7790867246075674,
          -0.7810449227927825,
          -0.7866602526008515,
          -0.7882266577493531
         ],
         "yaxis": "y"
        }
       ],
       "layout": {
        "font": {
         "color": "black",
         "family": "Roboto Serif"
        },
        "height": 600,
        "images": [
         {
          "sizex": 0.15,
          "sizey": 0.15,
          "source": "https://raw.githubusercontent.com/PolicyEngine/policyengine-app/master/src/images/logos/policyengine/blue.png",
          "x": 1.1,
          "xanchor": "right",
          "xref": "paper",
          "y": -0.15,
          "yanchor": "bottom",
          "yref": "paper"
         }
        ],
        "legend": {
         "title": {
          "text": "variable"
         },
         "tracegroupgap": 0
        },
        "margin": {
         "t": 60
        },
        "modebar": {
         "bgcolor": "rgba(0,0,0,0)",
         "color": "rgba(0,0,0,0)"
        },
        "template": {
         "data": {
          "bar": [
           {
            "error_x": {
             "color": "#2a3f5f"
            },
            "error_y": {
             "color": "#2a3f5f"
            },
            "marker": {
             "line": {
              "color": "white",
              "width": 0.5
             },
             "pattern": {
              "fillmode": "overlay",
              "size": 10,
              "solidity": 0.2
             }
            },
            "type": "bar"
           }
          ],
          "barpolar": [
           {
            "marker": {
             "line": {
              "color": "white",
              "width": 0.5
             },
             "pattern": {
              "fillmode": "overlay",
              "size": 10,
              "solidity": 0.2
             }
            },
            "type": "barpolar"
           }
          ],
          "carpet": [
           {
            "aaxis": {
             "endlinecolor": "#2a3f5f",
             "gridcolor": "#C8D4E3",
             "linecolor": "#C8D4E3",
             "minorgridcolor": "#C8D4E3",
             "startlinecolor": "#2a3f5f"
            },
            "baxis": {
             "endlinecolor": "#2a3f5f",
             "gridcolor": "#C8D4E3",
             "linecolor": "#C8D4E3",
             "minorgridcolor": "#C8D4E3",
             "startlinecolor": "#2a3f5f"
            },
            "type": "carpet"
           }
          ],
          "choropleth": [
           {
            "colorbar": {
             "outlinewidth": 0,
             "ticks": ""
            },
            "type": "choropleth"
           }
          ],
          "contour": [
           {
            "colorbar": {
             "outlinewidth": 0,
             "ticks": ""
            },
            "colorscale": [
             [
              0,
              "#0d0887"
             ],
             [
              0.1111111111111111,
              "#46039f"
             ],
             [
              0.2222222222222222,
              "#7201a8"
             ],
             [
              0.3333333333333333,
              "#9c179e"
             ],
             [
              0.4444444444444444,
              "#bd3786"
             ],
             [
              0.5555555555555556,
              "#d8576b"
             ],
             [
              0.6666666666666666,
              "#ed7953"
             ],
             [
              0.7777777777777778,
              "#fb9f3a"
             ],
             [
              0.8888888888888888,
              "#fdca26"
             ],
             [
              1,
              "#f0f921"
             ]
            ],
            "type": "contour"
           }
          ],
          "contourcarpet": [
           {
            "colorbar": {
             "outlinewidth": 0,
             "ticks": ""
            },
            "type": "contourcarpet"
           }
          ],
          "heatmap": [
           {
            "colorbar": {
             "outlinewidth": 0,
             "ticks": ""
            },
            "colorscale": [
             [
              0,
              "#0d0887"
             ],
             [
              0.1111111111111111,
              "#46039f"
             ],
             [
              0.2222222222222222,
              "#7201a8"
             ],
             [
              0.3333333333333333,
              "#9c179e"
             ],
             [
              0.4444444444444444,
              "#bd3786"
             ],
             [
              0.5555555555555556,
              "#d8576b"
             ],
             [
              0.6666666666666666,
              "#ed7953"
             ],
             [
              0.7777777777777778,
              "#fb9f3a"
             ],
             [
              0.8888888888888888,
              "#fdca26"
             ],
             [
              1,
              "#f0f921"
             ]
            ],
            "type": "heatmap"
           }
          ],
          "heatmapgl": [
           {
            "colorbar": {
             "outlinewidth": 0,
             "ticks": ""
            },
            "colorscale": [
             [
              0,
              "#0d0887"
             ],
             [
              0.1111111111111111,
              "#46039f"
             ],
             [
              0.2222222222222222,
              "#7201a8"
             ],
             [
              0.3333333333333333,
              "#9c179e"
             ],
             [
              0.4444444444444444,
              "#bd3786"
             ],
             [
              0.5555555555555556,
              "#d8576b"
             ],
             [
              0.6666666666666666,
              "#ed7953"
             ],
             [
              0.7777777777777778,
              "#fb9f3a"
             ],
             [
              0.8888888888888888,
              "#fdca26"
             ],
             [
              1,
              "#f0f921"
             ]
            ],
            "type": "heatmapgl"
           }
          ],
          "histogram": [
           {
            "marker": {
             "pattern": {
              "fillmode": "overlay",
              "size": 10,
              "solidity": 0.2
             }
            },
            "type": "histogram"
           }
          ],
          "histogram2d": [
           {
            "colorbar": {
             "outlinewidth": 0,
             "ticks": ""
            },
            "colorscale": [
             [
              0,
              "#0d0887"
             ],
             [
              0.1111111111111111,
              "#46039f"
             ],
             [
              0.2222222222222222,
              "#7201a8"
             ],
             [
              0.3333333333333333,
              "#9c179e"
             ],
             [
              0.4444444444444444,
              "#bd3786"
             ],
             [
              0.5555555555555556,
              "#d8576b"
             ],
             [
              0.6666666666666666,
              "#ed7953"
             ],
             [
              0.7777777777777778,
              "#fb9f3a"
             ],
             [
              0.8888888888888888,
              "#fdca26"
             ],
             [
              1,
              "#f0f921"
             ]
            ],
            "type": "histogram2d"
           }
          ],
          "histogram2dcontour": [
           {
            "colorbar": {
             "outlinewidth": 0,
             "ticks": ""
            },
            "colorscale": [
             [
              0,
              "#0d0887"
             ],
             [
              0.1111111111111111,
              "#46039f"
             ],
             [
              0.2222222222222222,
              "#7201a8"
             ],
             [
              0.3333333333333333,
              "#9c179e"
             ],
             [
              0.4444444444444444,
              "#bd3786"
             ],
             [
              0.5555555555555556,
              "#d8576b"
             ],
             [
              0.6666666666666666,
              "#ed7953"
             ],
             [
              0.7777777777777778,
              "#fb9f3a"
             ],
             [
              0.8888888888888888,
              "#fdca26"
             ],
             [
              1,
              "#f0f921"
             ]
            ],
            "type": "histogram2dcontour"
           }
          ],
          "mesh3d": [
           {
            "colorbar": {
             "outlinewidth": 0,
             "ticks": ""
            },
            "type": "mesh3d"
           }
          ],
          "parcoords": [
           {
            "line": {
             "colorbar": {
              "outlinewidth": 0,
              "ticks": ""
             }
            },
            "type": "parcoords"
           }
          ],
          "pie": [
           {
            "automargin": true,
            "type": "pie"
           }
          ],
          "scatter": [
           {
            "fillpattern": {
             "fillmode": "overlay",
             "size": 10,
             "solidity": 0.2
            },
            "type": "scatter"
           }
          ],
          "scatter3d": [
           {
            "line": {
             "colorbar": {
              "outlinewidth": 0,
              "ticks": ""
             }
            },
            "marker": {
             "colorbar": {
              "outlinewidth": 0,
              "ticks": ""
             }
            },
            "type": "scatter3d"
           }
          ],
          "scattercarpet": [
           {
            "marker": {
             "colorbar": {
              "outlinewidth": 0,
              "ticks": ""
             }
            },
            "type": "scattercarpet"
           }
          ],
          "scattergeo": [
           {
            "marker": {
             "colorbar": {
              "outlinewidth": 0,
              "ticks": ""
             }
            },
            "type": "scattergeo"
           }
          ],
          "scattergl": [
           {
            "marker": {
             "colorbar": {
              "outlinewidth": 0,
              "ticks": ""
             }
            },
            "type": "scattergl"
           }
          ],
          "scattermapbox": [
           {
            "marker": {
             "colorbar": {
              "outlinewidth": 0,
              "ticks": ""
             }
            },
            "type": "scattermapbox"
           }
          ],
          "scatterpolar": [
           {
            "marker": {
             "colorbar": {
              "outlinewidth": 0,
              "ticks": ""
             }
            },
            "type": "scatterpolar"
           }
          ],
          "scatterpolargl": [
           {
            "marker": {
             "colorbar": {
              "outlinewidth": 0,
              "ticks": ""
             }
            },
            "type": "scatterpolargl"
           }
          ],
          "scatterternary": [
           {
            "marker": {
             "colorbar": {
              "outlinewidth": 0,
              "ticks": ""
             }
            },
            "type": "scatterternary"
           }
          ],
          "surface": [
           {
            "colorbar": {
             "outlinewidth": 0,
             "ticks": ""
            },
            "colorscale": [
             [
              0,
              "#0d0887"
             ],
             [
              0.1111111111111111,
              "#46039f"
             ],
             [
              0.2222222222222222,
              "#7201a8"
             ],
             [
              0.3333333333333333,
              "#9c179e"
             ],
             [
              0.4444444444444444,
              "#bd3786"
             ],
             [
              0.5555555555555556,
              "#d8576b"
             ],
             [
              0.6666666666666666,
              "#ed7953"
             ],
             [
              0.7777777777777778,
              "#fb9f3a"
             ],
             [
              0.8888888888888888,
              "#fdca26"
             ],
             [
              1,
              "#f0f921"
             ]
            ],
            "type": "surface"
           }
          ],
          "table": [
           {
            "cells": {
             "fill": {
              "color": "#EBF0F8"
             },
             "line": {
              "color": "white"
             }
            },
            "header": {
             "fill": {
              "color": "#C8D4E3"
             },
             "line": {
              "color": "white"
             }
            },
            "type": "table"
           }
          ]
         },
         "layout": {
          "annotationdefaults": {
           "arrowcolor": "#2a3f5f",
           "arrowhead": 0,
           "arrowwidth": 1
          },
          "autotypenumbers": "strict",
          "coloraxis": {
           "colorbar": {
            "outlinewidth": 0,
            "ticks": ""
           }
          },
          "colorscale": {
           "diverging": [
            [
             0,
             "#8e0152"
            ],
            [
             0.1,
             "#c51b7d"
            ],
            [
             0.2,
             "#de77ae"
            ],
            [
             0.3,
             "#f1b6da"
            ],
            [
             0.4,
             "#fde0ef"
            ],
            [
             0.5,
             "#f7f7f7"
            ],
            [
             0.6,
             "#e6f5d0"
            ],
            [
             0.7,
             "#b8e186"
            ],
            [
             0.8,
             "#7fbc41"
            ],
            [
             0.9,
             "#4d9221"
            ],
            [
             1,
             "#276419"
            ]
           ],
           "sequential": [
            [
             0,
             "#0d0887"
            ],
            [
             0.1111111111111111,
             "#46039f"
            ],
            [
             0.2222222222222222,
             "#7201a8"
            ],
            [
             0.3333333333333333,
             "#9c179e"
            ],
            [
             0.4444444444444444,
             "#bd3786"
            ],
            [
             0.5555555555555556,
             "#d8576b"
            ],
            [
             0.6666666666666666,
             "#ed7953"
            ],
            [
             0.7777777777777778,
             "#fb9f3a"
            ],
            [
             0.8888888888888888,
             "#fdca26"
            ],
            [
             1,
             "#f0f921"
            ]
           ],
           "sequentialminus": [
            [
             0,
             "#0d0887"
            ],
            [
             0.1111111111111111,
             "#46039f"
            ],
            [
             0.2222222222222222,
             "#7201a8"
            ],
            [
             0.3333333333333333,
             "#9c179e"
            ],
            [
             0.4444444444444444,
             "#bd3786"
            ],
            [
             0.5555555555555556,
             "#d8576b"
            ],
            [
             0.6666666666666666,
             "#ed7953"
            ],
            [
             0.7777777777777778,
             "#fb9f3a"
            ],
            [
             0.8888888888888888,
             "#fdca26"
            ],
            [
             1,
             "#f0f921"
            ]
           ]
          },
          "colorway": [
           "#636efa",
           "#EF553B",
           "#00cc96",
           "#ab63fa",
           "#FFA15A",
           "#19d3f3",
           "#FF6692",
           "#B6E880",
           "#FF97FF",
           "#FECB52"
          ],
          "font": {
           "color": "#2a3f5f"
          },
          "geo": {
           "bgcolor": "white",
           "lakecolor": "white",
           "landcolor": "white",
           "showlakes": true,
           "showland": true,
           "subunitcolor": "#C8D4E3"
          },
          "hoverlabel": {
           "align": "left"
          },
          "hovermode": "closest",
          "mapbox": {
           "style": "light"
          },
          "paper_bgcolor": "white",
          "plot_bgcolor": "white",
          "polar": {
           "angularaxis": {
            "gridcolor": "#EBF0F8",
            "linecolor": "#EBF0F8",
            "ticks": ""
           },
           "bgcolor": "white",
           "radialaxis": {
            "gridcolor": "#EBF0F8",
            "linecolor": "#EBF0F8",
            "ticks": ""
           }
          },
          "scene": {
           "xaxis": {
            "backgroundcolor": "white",
            "gridcolor": "#DFE8F3",
            "gridwidth": 2,
            "linecolor": "#EBF0F8",
            "showbackground": true,
            "ticks": "",
            "zerolinecolor": "#EBF0F8"
           },
           "yaxis": {
            "backgroundcolor": "white",
            "gridcolor": "#DFE8F3",
            "gridwidth": 2,
            "linecolor": "#EBF0F8",
            "showbackground": true,
            "ticks": "",
            "zerolinecolor": "#EBF0F8"
           },
           "zaxis": {
            "backgroundcolor": "white",
            "gridcolor": "#DFE8F3",
            "gridwidth": 2,
            "linecolor": "#EBF0F8",
            "showbackground": true,
            "ticks": "",
            "zerolinecolor": "#EBF0F8"
           }
          },
          "shapedefaults": {
           "line": {
            "color": "#2a3f5f"
           }
          },
          "ternary": {
           "aaxis": {
            "gridcolor": "#DFE8F3",
            "linecolor": "#A2B1C6",
            "ticks": ""
           },
           "baxis": {
            "gridcolor": "#DFE8F3",
            "linecolor": "#A2B1C6",
            "ticks": ""
           },
           "bgcolor": "white",
           "caxis": {
            "gridcolor": "#DFE8F3",
            "linecolor": "#A2B1C6",
            "ticks": ""
           }
          },
          "title": {
           "x": 0.05
          },
          "xaxis": {
           "automargin": true,
           "gridcolor": "#EBF0F8",
           "linecolor": "#EBF0F8",
           "ticks": "",
           "title": {
            "standoff": 15
           },
           "zerolinecolor": "#EBF0F8",
           "zerolinewidth": 2
          },
          "yaxis": {
           "automargin": true,
           "gridcolor": "#EBF0F8",
           "linecolor": "#EBF0F8",
           "ticks": "",
           "title": {
            "standoff": 15
           },
           "zerolinecolor": "#EBF0F8",
           "zerolinewidth": 2
          }
         }
        },
        "title": {
         "text": "Calibrated vs holdout error"
        },
        "width": 800,
        "xaxis": {
         "anchor": "y",
         "domain": [
          0,
          1
         ],
         "title": {
          "text": "Epoch"
         }
        },
        "yaxis": {
         "anchor": "x",
         "domain": [
          0,
          1
         ],
         "tickformat": ".0%",
         "title": {
          "text": "Relative error change"
         }
        }
       }
      }
     },
     "metadata": {},
     "output_type": "display_data"
    }
   ],
   "source": [
    "import plotly.express as px\n",
    "from policyengine.utils.charts import *\n",
    "from policyengine_core.charts import format_fig\n",
    "import pandas as pd\n",
    "import numpy as np\n",
    "\n",
    "train_error = [x[0] for x in performance]\n",
    "holdout_error = [x[1] for x in performance]\n",
    "\n",
    "error_df = pd.DataFrame({\n",
    "    \"Calibrated\": train_error,\n",
    "    \"Holdout\": holdout_error,\n",
    "    \"Epoch\": np.arange(len(train_error)) * 10,\n",
    "})\n",
    "\n",
    "error_df[\"Calibrated\"] = error_df[\"Calibrated\"] / error_df[\"Calibrated\"].values[0]\n",
    "error_df[\"Holdout\"] = error_df[\"Holdout\"] / error_df[\"Holdout\"].values[0]\n",
    "\n",
    "error_df[\"Calibrated\"] -= 1\n",
    "error_df[\"Holdout\"] -= 1\n",
    "\n",
    "fig = px.line(error_df, x=\"Epoch\", y=[\"Calibrated\", \"Holdout\"], color_discrete_sequence=px.colors.qualitative.T10).update_layout(\n",
    "    title=\"Calibrated vs holdout error\",\n",
    "    yaxis_title=\"Relative error change\",\n",
    "    yaxis_tickformat=\".0%\",\n",
    ")\n",
    "format_fig(fig)"
   ]
  },
  {
   "cell_type": "code",
   "execution_count": 3,
   "id": "758ceccc",
   "metadata": {},
   "outputs": [
    {
     "data": {
      "text/plain": [
       "[(209314924.07636842, 0.488475147361944),\n",
       " (104688701.06549102, 0.26861174256506515),\n",
       " (84800021.75700788, 0.19636401884845647)]"
      ]
     },
     "execution_count": 3,
     "metadata": {},
     "output_type": "execute_result"
    }
   ],
   "source": [
    "performance"
   ]
  },
  {
   "cell_type": "code",
   "execution_count": 2,
   "id": "a8b35459",
   "metadata": {},
   "outputs": [
    {
     "name": "stdout",
     "output_type": "stream",
     "text": [
      "Loss: 8.413374900817871, Epoch: 0, Constituency<10%: 11.7%, National<10%: 3.9%\n",
      "Loss: 6.326820373535156, Epoch: 1, Constituency<10%: 14.5%, National<10%: 4.5%\n",
      "Loss: 4.765588760375977, Epoch: 2, Constituency<10%: 18.2%, National<10%: 7.2%\n",
      "Loss: 3.6271231174468994, Epoch: 3, Constituency<10%: 21.6%, National<10%: 10.7%\n",
      "Loss: 2.7974398136138916, Epoch: 4, Constituency<10%: 23.9%, National<10%: 19.7%\n",
      "Loss: 2.196089744567871, Epoch: 5, Constituency<10%: 25.3%, National<10%: 29.3%\n",
      "Loss: 1.7553602457046509, Epoch: 6, Constituency<10%: 26.5%, National<10%: 37.3%\n",
      "Loss: 1.4333171844482422, Epoch: 7, Constituency<10%: 27.9%, National<10%: 34.3%\n",
      "Loss: 1.1882569789886475, Epoch: 8, Constituency<10%: 29.9%, National<10%: 30.1%\n",
      "Loss: 1.0012985467910767, Epoch: 9, Constituency<10%: 33.0%, National<10%: 29.9%\n",
      "Loss: 0.8539372086524963, Epoch: 10, Constituency<10%: 37.2%, National<10%: 31.3%\n",
      "Loss: 0.7359781265258789, Epoch: 11, Constituency<10%: 39.4%, National<10%: 34.0%\n",
      "Loss: 0.6413196325302124, Epoch: 12, Constituency<10%: 40.4%, National<10%: 35.5%\n",
      "Loss: 0.5641652345657349, Epoch: 13, Constituency<10%: 40.9%, National<10%: 41.5%\n",
      "Loss: 0.5009653568267822, Epoch: 14, Constituency<10%: 41.0%, National<10%: 44.2%\n",
      "Loss: 0.44754424691200256, Epoch: 15, Constituency<10%: 41.1%, National<10%: 46.6%\n",
      "Loss: 0.4021810293197632, Epoch: 16, Constituency<10%: 41.7%, National<10%: 48.4%\n",
      "Loss: 0.36348167061805725, Epoch: 17, Constituency<10%: 43.5%, National<10%: 49.9%\n",
      "Loss: 0.3306291699409485, Epoch: 18, Constituency<10%: 45.9%, National<10%: 50.7%\n",
      "Loss: 0.3037375211715698, Epoch: 19, Constituency<10%: 48.8%, National<10%: 53.1%\n",
      "Loss: 0.28001725673675537, Epoch: 20, Constituency<10%: 51.1%, National<10%: 52.2%\n",
      "Loss: 0.261014461517334, Epoch: 21, Constituency<10%: 53.4%, National<10%: 51.0%\n",
      "Loss: 0.24358916282653809, Epoch: 22, Constituency<10%: 55.4%, National<10%: 49.0%\n",
      "Loss: 0.22823047637939453, Epoch: 23, Constituency<10%: 56.7%, National<10%: 49.9%\n",
      "Loss: 0.21458172798156738, Epoch: 24, Constituency<10%: 57.7%, National<10%: 50.1%\n",
      "Loss: 0.20221811532974243, Epoch: 25, Constituency<10%: 58.3%, National<10%: 52.8%\n",
      "Loss: 0.19113150238990784, Epoch: 26, Constituency<10%: 60.2%, National<10%: 55.5%\n",
      "Loss: 0.18121373653411865, Epoch: 27, Constituency<10%: 61.9%, National<10%: 57.9%\n",
      "Loss: 0.1730404496192932, Epoch: 28, Constituency<10%: 63.0%, National<10%: 55.5%\n",
      "Loss: 0.16633738577365875, Epoch: 29, Constituency<10%: 62.8%, National<10%: 58.2%\n",
      "Loss: 0.1602076292037964, Epoch: 30, Constituency<10%: 63.8%, National<10%: 60.6%\n",
      "Loss: 0.1545829474925995, Epoch: 31, Constituency<10%: 64.6%, National<10%: 60.0%\n",
      "Loss: 0.14954589307308197, Epoch: 32, Constituency<10%: 65.1%, National<10%: 60.0%\n",
      "Loss: 0.14519813656806946, Epoch: 33, Constituency<10%: 65.8%, National<10%: 61.8%\n",
      "Loss: 0.14102520048618317, Epoch: 34, Constituency<10%: 66.7%, National<10%: 63.3%\n",
      "Loss: 0.13726526498794556, Epoch: 35, Constituency<10%: 68.3%, National<10%: 63.9%\n",
      "Loss: 0.13379593193531036, Epoch: 36, Constituency<10%: 70.4%, National<10%: 64.8%\n",
      "Loss: 0.13065358996391296, Epoch: 37, Constituency<10%: 71.9%, National<10%: 65.7%\n",
      "Loss: 0.12758919596672058, Epoch: 38, Constituency<10%: 72.7%, National<10%: 66.3%\n",
      "Loss: 0.12485169619321823, Epoch: 39, Constituency<10%: 73.2%, National<10%: 67.5%\n",
      "Loss: 0.12214923650026321, Epoch: 40, Constituency<10%: 73.9%, National<10%: 68.1%\n",
      "Loss: 0.11938028037548065, Epoch: 41, Constituency<10%: 74.6%, National<10%: 69.3%\n",
      "Loss: 0.11695581674575806, Epoch: 42, Constituency<10%: 75.2%, National<10%: 70.1%\n",
      "Loss: 0.11446639150381088, Epoch: 43, Constituency<10%: 76.4%, National<10%: 71.6%\n",
      "Loss: 0.11198263615369797, Epoch: 44, Constituency<10%: 77.8%, National<10%: 72.5%\n",
      "Loss: 0.10970747470855713, Epoch: 45, Constituency<10%: 78.7%, National<10%: 71.9%\n",
      "Loss: 0.1077217161655426, Epoch: 46, Constituency<10%: 80.1%, National<10%: 72.8%\n",
      "Loss: 0.10603046417236328, Epoch: 47, Constituency<10%: 80.7%, National<10%: 73.7%\n",
      "Loss: 0.10442929714918137, Epoch: 48, Constituency<10%: 81.4%, National<10%: 74.3%\n",
      "Loss: 0.10313872247934341, Epoch: 49, Constituency<10%: 81.6%, National<10%: 74.6%\n",
      "Loss: 0.10184606164693832, Epoch: 50, Constituency<10%: 82.4%, National<10%: 76.1%\n",
      "Loss: 0.10054905712604523, Epoch: 51, Constituency<10%: 82.6%, National<10%: 76.1%\n",
      "Loss: 0.09927501529455185, Epoch: 52, Constituency<10%: 82.8%, National<10%: 77.9%\n",
      "Loss: 0.09819545596837997, Epoch: 53, Constituency<10%: 83.0%, National<10%: 79.4%\n",
      "Loss: 0.09704694151878357, Epoch: 54, Constituency<10%: 83.7%, National<10%: 79.1%\n",
      "Loss: 0.09608948230743408, Epoch: 55, Constituency<10%: 84.6%, National<10%: 79.4%\n",
      "Loss: 0.09502171725034714, Epoch: 56, Constituency<10%: 85.3%, National<10%: 78.5%\n",
      "Loss: 0.09411422908306122, Epoch: 57, Constituency<10%: 85.7%, National<10%: 78.5%\n",
      "Loss: 0.0931529849767685, Epoch: 58, Constituency<10%: 86.3%, National<10%: 80.6%\n",
      "Loss: 0.09226518124341965, Epoch: 59, Constituency<10%: 87.0%, National<10%: 80.6%\n",
      "Loss: 0.09144365787506104, Epoch: 60, Constituency<10%: 87.2%, National<10%: 80.3%\n",
      "Loss: 0.09077556431293488, Epoch: 61, Constituency<10%: 87.7%, National<10%: 80.6%\n",
      "Loss: 0.0899403989315033, Epoch: 62, Constituency<10%: 88.2%, National<10%: 80.0%\n",
      "Loss: 0.08927517384290695, Epoch: 63, Constituency<10%: 88.6%, National<10%: 79.7%\n"
     ]
    }
   ],
   "source": [
    "standard_weights = get_weights_with_exclude_list()\n",
    "\n",
    "standard_df = get_constituency_performance(standard_weights)"
   ]
  },
  {
   "cell_type": "code",
   "execution_count": 3,
   "id": "01929ced",
   "metadata": {},
   "outputs": [],
   "source": [
    "import numpy as np\n",
    "\n",
    "national_weights_projected = np.ones_like(standard_weights) * standard_weights.mean(axis=0)\n",
    "\n",
    "national_df = get_constituency_performance(national_weights_projected)"
   ]
  },
  {
   "cell_type": "code",
   "execution_count": 4,
   "id": "0c5a585c",
   "metadata": {},
   "outputs": [
    {
     "name": "stdout",
     "output_type": "stream",
     "text": [
      "Loss: 8.692922592163086, Epoch: 0, Constituency<10%: 11.1%, National<10%: 3.6%\n",
      "Loss: 6.525519371032715, Epoch: 1, Constituency<10%: 14.3%, National<10%: 5.1%\n",
      "Loss: 4.899694919586182, Epoch: 2, Constituency<10%: 18.7%, National<10%: 7.5%\n",
      "Loss: 3.7199020385742188, Epoch: 3, Constituency<10%: 22.4%, National<10%: 12.5%\n",
      "Loss: 2.8636200428009033, Epoch: 4, Constituency<10%: 24.8%, National<10%: 22.7%\n",
      "Loss: 2.241800308227539, Epoch: 5, Constituency<10%: 26.4%, National<10%: 29.9%\n",
      "Loss: 1.7911784648895264, Epoch: 6, Constituency<10%: 27.7%, National<10%: 37.6%\n",
      "Loss: 1.4546833038330078, Epoch: 7, Constituency<10%: 28.8%, National<10%: 34.3%\n",
      "Loss: 1.2061407566070557, Epoch: 8, Constituency<10%: 31.3%, National<10%: 31.6%\n",
      "Loss: 1.015023946762085, Epoch: 9, Constituency<10%: 34.4%, National<10%: 30.7%\n",
      "Loss: 0.864335298538208, Epoch: 10, Constituency<10%: 38.3%, National<10%: 33.1%\n",
      "Loss: 0.7443556785583496, Epoch: 11, Constituency<10%: 41.2%, National<10%: 36.1%\n",
      "Loss: 0.6479336023330688, Epoch: 12, Constituency<10%: 42.6%, National<10%: 37.6%\n",
      "Loss: 0.5700005292892456, Epoch: 13, Constituency<10%: 43.3%, National<10%: 40.9%\n",
      "Loss: 0.5055962800979614, Epoch: 14, Constituency<10%: 43.3%, National<10%: 46.3%\n",
      "Loss: 0.45175886154174805, Epoch: 15, Constituency<10%: 43.3%, National<10%: 46.6%\n",
      "Loss: 0.4060971736907959, Epoch: 16, Constituency<10%: 43.5%, National<10%: 49.3%\n",
      "Loss: 0.3670634627342224, Epoch: 17, Constituency<10%: 44.7%, National<10%: 49.9%\n",
      "Loss: 0.3339175581932068, Epoch: 18, Constituency<10%: 47.0%, National<10%: 51.3%\n",
      "Loss: 0.3063713014125824, Epoch: 19, Constituency<10%: 49.8%, National<10%: 53.4%\n",
      "Loss: 0.2828664183616638, Epoch: 20, Constituency<10%: 52.5%, National<10%: 53.4%\n",
      "Loss: 0.2632705569267273, Epoch: 21, Constituency<10%: 54.5%, National<10%: 51.6%\n",
      "Loss: 0.24583378434181213, Epoch: 22, Constituency<10%: 56.8%, National<10%: 49.6%\n",
      "Loss: 0.23077628016471863, Epoch: 23, Constituency<10%: 58.0%, National<10%: 48.7%\n",
      "Loss: 0.21639803051948547, Epoch: 24, Constituency<10%: 58.1%, National<10%: 50.4%\n",
      "Loss: 0.20398207008838654, Epoch: 25, Constituency<10%: 58.8%, National<10%: 53.1%\n",
      "Loss: 0.19284853339195251, Epoch: 26, Constituency<10%: 60.5%, National<10%: 54.9%\n",
      "Loss: 0.18307869136333466, Epoch: 27, Constituency<10%: 61.6%, National<10%: 56.7%\n",
      "Loss: 0.17496465146541595, Epoch: 28, Constituency<10%: 61.8%, National<10%: 57.6%\n",
      "Loss: 0.16810037195682526, Epoch: 29, Constituency<10%: 61.0%, National<10%: 58.5%\n",
      "Loss: 0.1618540734052658, Epoch: 30, Constituency<10%: 61.3%, National<10%: 58.8%\n",
      "Loss: 0.15644508600234985, Epoch: 31, Constituency<10%: 61.9%, National<10%: 58.2%\n",
      "Loss: 0.15113434195518494, Epoch: 32, Constituency<10%: 62.3%, National<10%: 59.4%\n",
      "Loss: 0.14642424881458282, Epoch: 33, Constituency<10%: 63.5%, National<10%: 61.5%\n",
      "Loss: 0.1420840173959732, Epoch: 34, Constituency<10%: 65.0%, National<10%: 62.1%\n",
      "Loss: 0.1384539008140564, Epoch: 35, Constituency<10%: 67.4%, National<10%: 62.7%\n",
      "Loss: 0.13517561554908752, Epoch: 36, Constituency<10%: 69.4%, National<10%: 65.1%\n",
      "Loss: 0.13197743892669678, Epoch: 37, Constituency<10%: 71.0%, National<10%: 63.6%\n",
      "Loss: 0.12897659838199615, Epoch: 38, Constituency<10%: 71.8%, National<10%: 64.8%\n",
      "Loss: 0.12597429752349854, Epoch: 39, Constituency<10%: 72.9%, National<10%: 65.7%\n",
      "Loss: 0.12304625660181046, Epoch: 40, Constituency<10%: 73.7%, National<10%: 66.3%\n",
      "Loss: 0.12024158239364624, Epoch: 41, Constituency<10%: 74.4%, National<10%: 68.1%\n",
      "Loss: 0.11752208322286606, Epoch: 42, Constituency<10%: 75.2%, National<10%: 69.9%\n",
      "Loss: 0.11499188840389252, Epoch: 43, Constituency<10%: 76.5%, National<10%: 71.3%\n",
      "Loss: 0.11253446340560913, Epoch: 44, Constituency<10%: 77.3%, National<10%: 71.0%\n",
      "Loss: 0.11039992421865463, Epoch: 45, Constituency<10%: 78.5%, National<10%: 71.3%\n",
      "Loss: 0.10849540680646896, Epoch: 46, Constituency<10%: 79.9%, National<10%: 72.8%\n",
      "Loss: 0.10668215155601501, Epoch: 47, Constituency<10%: 81.1%, National<10%: 72.8%\n",
      "Loss: 0.10479487478733063, Epoch: 48, Constituency<10%: 81.6%, National<10%: 73.1%\n",
      "Loss: 0.10343777388334274, Epoch: 49, Constituency<10%: 82.1%, National<10%: 74.3%\n",
      "Loss: 0.10192684829235077, Epoch: 50, Constituency<10%: 82.6%, National<10%: 74.0%\n",
      "Loss: 0.10063444823026657, Epoch: 51, Constituency<10%: 82.6%, National<10%: 76.1%\n",
      "Loss: 0.09940653294324875, Epoch: 52, Constituency<10%: 83.2%, National<10%: 77.3%\n",
      "Loss: 0.0981939285993576, Epoch: 53, Constituency<10%: 83.7%, National<10%: 78.2%\n",
      "Loss: 0.09708476066589355, Epoch: 54, Constituency<10%: 84.3%, National<10%: 78.8%\n",
      "Loss: 0.09603757411241531, Epoch: 55, Constituency<10%: 85.2%, National<10%: 79.4%\n",
      "Loss: 0.09504052996635437, Epoch: 56, Constituency<10%: 85.6%, National<10%: 79.4%\n",
      "Loss: 0.09413792937994003, Epoch: 57, Constituency<10%: 86.3%, National<10%: 80.9%\n",
      "Loss: 0.09323713183403015, Epoch: 58, Constituency<10%: 87.3%, National<10%: 80.6%\n",
      "Loss: 0.09222213178873062, Epoch: 59, Constituency<10%: 87.7%, National<10%: 81.5%\n",
      "Loss: 0.09152866154909134, Epoch: 60, Constituency<10%: 88.1%, National<10%: 81.5%\n",
      "Loss: 0.09069664776325226, Epoch: 61, Constituency<10%: 88.5%, National<10%: 82.4%\n",
      "Loss: 0.08997313678264618, Epoch: 62, Constituency<10%: 89.0%, National<10%: 82.1%\n",
      "Loss: 0.08925826102495193, Epoch: 63, Constituency<10%: 89.1%, National<10%: 81.8%\n"
     ]
    }
   ],
   "source": [
    "import numpy as np\n",
    "constituency_target_matrix, constituency_actuals, _ = create_constituency_target_matrix(\"enhanced_frs_2022_23\", 2025, None)\n",
    "excluded = np.random.choice(constituency_target_matrix.columns, size=int(0.1 * constituency_target_matrix.shape[1]), replace=False)\n",
    "excluded_df = get_constituency_performance(get_weights_with_exclude_list(exclude_list=excluded))\n",
    "\n",
    "standard_df[\"metric_excluded\"] = standard_df.metric.isin(excluded)\n",
    "excluded_df[\"metric_excluded\"] = excluded_df.metric.isin(excluded)\n",
    "national_df[\"metric_excluded\"] = national_df.metric.isin(excluded)\n",
    "\n",
    "standard_df.to_csv(\"standard_df.csv\", index=False)\n",
    "excluded_df.to_csv(\"excluded_df.csv\", index=False)\n",
    "national_df.to_csv(\"national_df.csv\", index=False)"
   ]
  },
  {
   "cell_type": "code",
   "execution_count": 5,
   "id": "aa5e6f45",
   "metadata": {},
   "outputs": [
    {
     "data": {
      "text/plain": [
       "(metric_excluded\n",
       " False    0.065632\n",
       " True     0.341493\n",
       " Name: rel_abs_error, dtype: float64,\n",
       " metric_excluded\n",
       " False    0.067863\n",
       " True     0.046826\n",
       " Name: rel_abs_error, dtype: float64,\n",
       " metric_excluded\n",
       " False    0.287826\n",
       " True     0.436839\n",
       " Name: rel_abs_error, dtype: float64)"
      ]
     },
     "execution_count": 5,
     "metadata": {},
     "output_type": "execute_result"
    }
   ],
   "source": [
    "excluded_df.groupby(\"metric_excluded\").rel_abs_error.mean(), standard_df.groupby(\"metric_excluded\").rel_abs_error.mean(), national_df.groupby(\"metric_excluded\").rel_abs_error.mean()"
   ]
  },
  {
   "cell_type": "code",
   "execution_count": 6,
   "id": "ea4e7bfc",
   "metadata": {},
   "outputs": [
    {
     "data": {
      "application/vnd.plotly.v1+json": {
       "config": {
        "plotlyServerURL": "https://plot.ly"
       },
       "data": [
        {
         "alignmentgroup": "True",
         "hovertemplate": "Metric excluded=No<br>Mean relative error=%{x}<br>Weights=%{y}<extra></extra>",
         "legendgroup": "No",
         "marker": {
          "color": "#4C78A8",
          "pattern": {
           "shape": ""
          }
         },
         "name": "No",
         "offsetgroup": "No",
         "orientation": "h",
         "showlegend": true,
         "textposition": "auto",
         "type": "bar",
         "x": [
          0.28782598184884967,
          0.06786320923753537,
          0.06563237774077822
         ],
         "xaxis": "x",
         "y": [
          "National",
          "Calibrated (full)",
          "Calibrated (holdout set)"
         ],
         "yaxis": "y"
        },
        {
         "alignmentgroup": "True",
         "hovertemplate": "Metric excluded=Yes<br>Mean relative error=%{x}<br>Weights=%{y}<extra></extra>",
         "legendgroup": "Yes",
         "marker": {
          "color": "#F58518",
          "pattern": {
           "shape": ""
          }
         },
         "name": "Yes",
         "offsetgroup": "Yes",
         "orientation": "h",
         "showlegend": true,
         "textposition": "auto",
         "type": "bar",
         "x": [
          0.43683927454031546,
          0.04682550916968728,
          0.34149291086792993
         ],
         "xaxis": "x",
         "y": [
          "National",
          "Calibrated (full)",
          "Calibrated (holdout set)"
         ],
         "yaxis": "y"
        }
       ],
       "layout": {
        "barmode": "group",
        "font": {
         "color": "black",
         "family": "Roboto Serif"
        },
        "height": 600,
        "images": [
         {
          "sizex": 0.15,
          "sizey": 0.15,
          "source": "https://raw.githubusercontent.com/PolicyEngine/policyengine-app/master/src/images/logos/policyengine/blue.png",
          "x": 1.1,
          "xanchor": "right",
          "xref": "paper",
          "y": -0.15,
          "yanchor": "bottom",
          "yref": "paper"
         }
        ],
        "legend": {
         "title": {
          "text": "Metric excluded"
         },
         "tracegroupgap": 0
        },
        "modebar": {
         "bgcolor": "rgba(0,0,0,0)",
         "color": "rgba(0,0,0,0)"
        },
        "template": {
         "data": {
          "bar": [
           {
            "error_x": {
             "color": "#2a3f5f"
            },
            "error_y": {
             "color": "#2a3f5f"
            },
            "marker": {
             "line": {
              "color": "white",
              "width": 0.5
             },
             "pattern": {
              "fillmode": "overlay",
              "size": 10,
              "solidity": 0.2
             }
            },
            "type": "bar"
           }
          ],
          "barpolar": [
           {
            "marker": {
             "line": {
              "color": "white",
              "width": 0.5
             },
             "pattern": {
              "fillmode": "overlay",
              "size": 10,
              "solidity": 0.2
             }
            },
            "type": "barpolar"
           }
          ],
          "carpet": [
           {
            "aaxis": {
             "endlinecolor": "#2a3f5f",
             "gridcolor": "#C8D4E3",
             "linecolor": "#C8D4E3",
             "minorgridcolor": "#C8D4E3",
             "startlinecolor": "#2a3f5f"
            },
            "baxis": {
             "endlinecolor": "#2a3f5f",
             "gridcolor": "#C8D4E3",
             "linecolor": "#C8D4E3",
             "minorgridcolor": "#C8D4E3",
             "startlinecolor": "#2a3f5f"
            },
            "type": "carpet"
           }
          ],
          "choropleth": [
           {
            "colorbar": {
             "outlinewidth": 0,
             "ticks": ""
            },
            "type": "choropleth"
           }
          ],
          "contour": [
           {
            "colorbar": {
             "outlinewidth": 0,
             "ticks": ""
            },
            "colorscale": [
             [
              0,
              "#0d0887"
             ],
             [
              0.1111111111111111,
              "#46039f"
             ],
             [
              0.2222222222222222,
              "#7201a8"
             ],
             [
              0.3333333333333333,
              "#9c179e"
             ],
             [
              0.4444444444444444,
              "#bd3786"
             ],
             [
              0.5555555555555556,
              "#d8576b"
             ],
             [
              0.6666666666666666,
              "#ed7953"
             ],
             [
              0.7777777777777778,
              "#fb9f3a"
             ],
             [
              0.8888888888888888,
              "#fdca26"
             ],
             [
              1,
              "#f0f921"
             ]
            ],
            "type": "contour"
           }
          ],
          "contourcarpet": [
           {
            "colorbar": {
             "outlinewidth": 0,
             "ticks": ""
            },
            "type": "contourcarpet"
           }
          ],
          "heatmap": [
           {
            "colorbar": {
             "outlinewidth": 0,
             "ticks": ""
            },
            "colorscale": [
             [
              0,
              "#0d0887"
             ],
             [
              0.1111111111111111,
              "#46039f"
             ],
             [
              0.2222222222222222,
              "#7201a8"
             ],
             [
              0.3333333333333333,
              "#9c179e"
             ],
             [
              0.4444444444444444,
              "#bd3786"
             ],
             [
              0.5555555555555556,
              "#d8576b"
             ],
             [
              0.6666666666666666,
              "#ed7953"
             ],
             [
              0.7777777777777778,
              "#fb9f3a"
             ],
             [
              0.8888888888888888,
              "#fdca26"
             ],
             [
              1,
              "#f0f921"
             ]
            ],
            "type": "heatmap"
           }
          ],
          "heatmapgl": [
           {
            "colorbar": {
             "outlinewidth": 0,
             "ticks": ""
            },
            "colorscale": [
             [
              0,
              "#0d0887"
             ],
             [
              0.1111111111111111,
              "#46039f"
             ],
             [
              0.2222222222222222,
              "#7201a8"
             ],
             [
              0.3333333333333333,
              "#9c179e"
             ],
             [
              0.4444444444444444,
              "#bd3786"
             ],
             [
              0.5555555555555556,
              "#d8576b"
             ],
             [
              0.6666666666666666,
              "#ed7953"
             ],
             [
              0.7777777777777778,
              "#fb9f3a"
             ],
             [
              0.8888888888888888,
              "#fdca26"
             ],
             [
              1,
              "#f0f921"
             ]
            ],
            "type": "heatmapgl"
           }
          ],
          "histogram": [
           {
            "marker": {
             "pattern": {
              "fillmode": "overlay",
              "size": 10,
              "solidity": 0.2
             }
            },
            "type": "histogram"
           }
          ],
          "histogram2d": [
           {
            "colorbar": {
             "outlinewidth": 0,
             "ticks": ""
            },
            "colorscale": [
             [
              0,
              "#0d0887"
             ],
             [
              0.1111111111111111,
              "#46039f"
             ],
             [
              0.2222222222222222,
              "#7201a8"
             ],
             [
              0.3333333333333333,
              "#9c179e"
             ],
             [
              0.4444444444444444,
              "#bd3786"
             ],
             [
              0.5555555555555556,
              "#d8576b"
             ],
             [
              0.6666666666666666,
              "#ed7953"
             ],
             [
              0.7777777777777778,
              "#fb9f3a"
             ],
             [
              0.8888888888888888,
              "#fdca26"
             ],
             [
              1,
              "#f0f921"
             ]
            ],
            "type": "histogram2d"
           }
          ],
          "histogram2dcontour": [
           {
            "colorbar": {
             "outlinewidth": 0,
             "ticks": ""
            },
            "colorscale": [
             [
              0,
              "#0d0887"
             ],
             [
              0.1111111111111111,
              "#46039f"
             ],
             [
              0.2222222222222222,
              "#7201a8"
             ],
             [
              0.3333333333333333,
              "#9c179e"
             ],
             [
              0.4444444444444444,
              "#bd3786"
             ],
             [
              0.5555555555555556,
              "#d8576b"
             ],
             [
              0.6666666666666666,
              "#ed7953"
             ],
             [
              0.7777777777777778,
              "#fb9f3a"
             ],
             [
              0.8888888888888888,
              "#fdca26"
             ],
             [
              1,
              "#f0f921"
             ]
            ],
            "type": "histogram2dcontour"
           }
          ],
          "mesh3d": [
           {
            "colorbar": {
             "outlinewidth": 0,
             "ticks": ""
            },
            "type": "mesh3d"
           }
          ],
          "parcoords": [
           {
            "line": {
             "colorbar": {
              "outlinewidth": 0,
              "ticks": ""
             }
            },
            "type": "parcoords"
           }
          ],
          "pie": [
           {
            "automargin": true,
            "type": "pie"
           }
          ],
          "scatter": [
           {
            "fillpattern": {
             "fillmode": "overlay",
             "size": 10,
             "solidity": 0.2
            },
            "type": "scatter"
           }
          ],
          "scatter3d": [
           {
            "line": {
             "colorbar": {
              "outlinewidth": 0,
              "ticks": ""
             }
            },
            "marker": {
             "colorbar": {
              "outlinewidth": 0,
              "ticks": ""
             }
            },
            "type": "scatter3d"
           }
          ],
          "scattercarpet": [
           {
            "marker": {
             "colorbar": {
              "outlinewidth": 0,
              "ticks": ""
             }
            },
            "type": "scattercarpet"
           }
          ],
          "scattergeo": [
           {
            "marker": {
             "colorbar": {
              "outlinewidth": 0,
              "ticks": ""
             }
            },
            "type": "scattergeo"
           }
          ],
          "scattergl": [
           {
            "marker": {
             "colorbar": {
              "outlinewidth": 0,
              "ticks": ""
             }
            },
            "type": "scattergl"
           }
          ],
          "scattermapbox": [
           {
            "marker": {
             "colorbar": {
              "outlinewidth": 0,
              "ticks": ""
             }
            },
            "type": "scattermapbox"
           }
          ],
          "scatterpolar": [
           {
            "marker": {
             "colorbar": {
              "outlinewidth": 0,
              "ticks": ""
             }
            },
            "type": "scatterpolar"
           }
          ],
          "scatterpolargl": [
           {
            "marker": {
             "colorbar": {
              "outlinewidth": 0,
              "ticks": ""
             }
            },
            "type": "scatterpolargl"
           }
          ],
          "scatterternary": [
           {
            "marker": {
             "colorbar": {
              "outlinewidth": 0,
              "ticks": ""
             }
            },
            "type": "scatterternary"
           }
          ],
          "surface": [
           {
            "colorbar": {
             "outlinewidth": 0,
             "ticks": ""
            },
            "colorscale": [
             [
              0,
              "#0d0887"
             ],
             [
              0.1111111111111111,
              "#46039f"
             ],
             [
              0.2222222222222222,
              "#7201a8"
             ],
             [
              0.3333333333333333,
              "#9c179e"
             ],
             [
              0.4444444444444444,
              "#bd3786"
             ],
             [
              0.5555555555555556,
              "#d8576b"
             ],
             [
              0.6666666666666666,
              "#ed7953"
             ],
             [
              0.7777777777777778,
              "#fb9f3a"
             ],
             [
              0.8888888888888888,
              "#fdca26"
             ],
             [
              1,
              "#f0f921"
             ]
            ],
            "type": "surface"
           }
          ],
          "table": [
           {
            "cells": {
             "fill": {
              "color": "#EBF0F8"
             },
             "line": {
              "color": "white"
             }
            },
            "header": {
             "fill": {
              "color": "#C8D4E3"
             },
             "line": {
              "color": "white"
             }
            },
            "type": "table"
           }
          ]
         },
         "layout": {
          "annotationdefaults": {
           "arrowcolor": "#2a3f5f",
           "arrowhead": 0,
           "arrowwidth": 1
          },
          "autotypenumbers": "strict",
          "coloraxis": {
           "colorbar": {
            "outlinewidth": 0,
            "ticks": ""
           }
          },
          "colorscale": {
           "diverging": [
            [
             0,
             "#8e0152"
            ],
            [
             0.1,
             "#c51b7d"
            ],
            [
             0.2,
             "#de77ae"
            ],
            [
             0.3,
             "#f1b6da"
            ],
            [
             0.4,
             "#fde0ef"
            ],
            [
             0.5,
             "#f7f7f7"
            ],
            [
             0.6,
             "#e6f5d0"
            ],
            [
             0.7,
             "#b8e186"
            ],
            [
             0.8,
             "#7fbc41"
            ],
            [
             0.9,
             "#4d9221"
            ],
            [
             1,
             "#276419"
            ]
           ],
           "sequential": [
            [
             0,
             "#0d0887"
            ],
            [
             0.1111111111111111,
             "#46039f"
            ],
            [
             0.2222222222222222,
             "#7201a8"
            ],
            [
             0.3333333333333333,
             "#9c179e"
            ],
            [
             0.4444444444444444,
             "#bd3786"
            ],
            [
             0.5555555555555556,
             "#d8576b"
            ],
            [
             0.6666666666666666,
             "#ed7953"
            ],
            [
             0.7777777777777778,
             "#fb9f3a"
            ],
            [
             0.8888888888888888,
             "#fdca26"
            ],
            [
             1,
             "#f0f921"
            ]
           ],
           "sequentialminus": [
            [
             0,
             "#0d0887"
            ],
            [
             0.1111111111111111,
             "#46039f"
            ],
            [
             0.2222222222222222,
             "#7201a8"
            ],
            [
             0.3333333333333333,
             "#9c179e"
            ],
            [
             0.4444444444444444,
             "#bd3786"
            ],
            [
             0.5555555555555556,
             "#d8576b"
            ],
            [
             0.6666666666666666,
             "#ed7953"
            ],
            [
             0.7777777777777778,
             "#fb9f3a"
            ],
            [
             0.8888888888888888,
             "#fdca26"
            ],
            [
             1,
             "#f0f921"
            ]
           ]
          },
          "colorway": [
           "#636efa",
           "#EF553B",
           "#00cc96",
           "#ab63fa",
           "#FFA15A",
           "#19d3f3",
           "#FF6692",
           "#B6E880",
           "#FF97FF",
           "#FECB52"
          ],
          "font": {
           "color": "#2a3f5f"
          },
          "geo": {
           "bgcolor": "white",
           "lakecolor": "white",
           "landcolor": "white",
           "showlakes": true,
           "showland": true,
           "subunitcolor": "#C8D4E3"
          },
          "hoverlabel": {
           "align": "left"
          },
          "hovermode": "closest",
          "mapbox": {
           "style": "light"
          },
          "paper_bgcolor": "white",
          "plot_bgcolor": "white",
          "polar": {
           "angularaxis": {
            "gridcolor": "#EBF0F8",
            "linecolor": "#EBF0F8",
            "ticks": ""
           },
           "bgcolor": "white",
           "radialaxis": {
            "gridcolor": "#EBF0F8",
            "linecolor": "#EBF0F8",
            "ticks": ""
           }
          },
          "scene": {
           "xaxis": {
            "backgroundcolor": "white",
            "gridcolor": "#DFE8F3",
            "gridwidth": 2,
            "linecolor": "#EBF0F8",
            "showbackground": true,
            "ticks": "",
            "zerolinecolor": "#EBF0F8"
           },
           "yaxis": {
            "backgroundcolor": "white",
            "gridcolor": "#DFE8F3",
            "gridwidth": 2,
            "linecolor": "#EBF0F8",
            "showbackground": true,
            "ticks": "",
            "zerolinecolor": "#EBF0F8"
           },
           "zaxis": {
            "backgroundcolor": "white",
            "gridcolor": "#DFE8F3",
            "gridwidth": 2,
            "linecolor": "#EBF0F8",
            "showbackground": true,
            "ticks": "",
            "zerolinecolor": "#EBF0F8"
           }
          },
          "shapedefaults": {
           "line": {
            "color": "#2a3f5f"
           }
          },
          "ternary": {
           "aaxis": {
            "gridcolor": "#DFE8F3",
            "linecolor": "#A2B1C6",
            "ticks": ""
           },
           "baxis": {
            "gridcolor": "#DFE8F3",
            "linecolor": "#A2B1C6",
            "ticks": ""
           },
           "bgcolor": "white",
           "caxis": {
            "gridcolor": "#DFE8F3",
            "linecolor": "#A2B1C6",
            "ticks": ""
           }
          },
          "title": {
           "x": 0.05
          },
          "xaxis": {
           "automargin": true,
           "gridcolor": "#EBF0F8",
           "linecolor": "#EBF0F8",
           "ticks": "",
           "title": {
            "standoff": 15
           },
           "zerolinecolor": "#EBF0F8",
           "zerolinewidth": 2
          },
          "yaxis": {
           "automargin": true,
           "gridcolor": "#EBF0F8",
           "linecolor": "#EBF0F8",
           "ticks": "",
           "title": {
            "standoff": 15
           },
           "zerolinecolor": "#EBF0F8",
           "zerolinewidth": 2
          }
         }
        },
        "title": {
         "text": "Relative error in constituency estimates"
        },
        "width": 800,
        "xaxis": {
         "anchor": "y",
         "domain": [
          0,
          1
         ],
         "title": {
          "text": "Mean relative error"
         }
        },
        "yaxis": {
         "anchor": "x",
         "domain": [
          0,
          1
         ],
         "title": {
          "text": "Weights"
         }
        }
       }
      }
     },
     "metadata": {},
     "output_type": "display_data"
    }
   ],
   "source": [
    "import plotly.express as px\n",
    "from policyengine_core.charts import *\n",
    "\n",
    "analysis_df = pd.DataFrame({\n",
    "    \"Weights\": [\"National\", \"Calibrated (full)\", \"Calibrated (holdout set)\"] * 2,\n",
    "    \"Metric excluded\": [\"No\"] * 3 + [\"Yes\"] * 3,\n",
    "    \"Mean relative error\": [\n",
    "        national_df[~national_df.metric_excluded].rel_abs_error.mean(),\n",
    "        standard_df[~standard_df.metric_excluded].rel_abs_error.mean(),\n",
    "        excluded_df[~excluded_df.metric_excluded].rel_abs_error.mean(),\n",
    "        national_df[national_df.metric_excluded].rel_abs_error.mean(),\n",
    "        standard_df[standard_df.metric_excluded].rel_abs_error.mean(),\n",
    "        excluded_df[excluded_df.metric_excluded].rel_abs_error.mean()\n",
    "    ],\n",
    "})\n",
    "\n",
    "fig = px.bar(\n",
    "    analysis_df,\n",
    "    y=\"Weights\",\n",
    "    x=\"Mean relative error\",\n",
    "    color=\"Metric excluded\",\n",
    "    barmode=\"group\",\n",
    "    title=\"Relative error in constituency estimates\",\n",
    "    color_discrete_sequence=px.colors.qualitative.T10,\n",
    ")\n",
    "\n",
    "format_fig(fig)"
   ]
  }
 ],
 "metadata": {
  "kernelspec": {
   "display_name": ".venv",
   "language": "python",
   "name": "python3"
  },
  "language_info": {
   "codemirror_mode": {
    "name": "ipython",
    "version": 3
   },
   "file_extension": ".py",
   "mimetype": "text/x-python",
   "name": "python",
   "nbconvert_exporter": "python",
   "pygments_lexer": "ipython3",
   "version": "3.11.11"
  }
 },
 "nbformat": 4,
 "nbformat_minor": 5
}
