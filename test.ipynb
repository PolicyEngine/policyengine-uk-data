{
 "cells": [
  {
   "cell_type": "code",
   "execution_count": 1,
   "id": "9f2966b2",
   "metadata": {},
   "outputs": [],
   "source": [
    "from policyengine_uk import Microsimulation\n",
    "from policyengine_uk.data import UKDataset\n",
    "from policyengine_uk_data.datasets.frs import create_frs\n",
    "\n",
    "frs = UKDataset(\"policyengine_uk_data/storage/frs_2022.h5\")"
   ]
  },
  {
   "cell_type": "code",
   "execution_count": 2,
   "id": "9b1e76d6",
   "metadata": {},
   "outputs": [],
   "source": [
    "from policyengine_uk_data.datasets.local_areas.constituencies.calibrate import calibrate\n",
    "\n",
    "frs_calibrated = calibrate(frs)"
   ]
  },
  {
   "cell_type": "code",
   "execution_count": 4,
   "id": "44e03fbb",
   "metadata": {},
   "outputs": [
    {
     "data": {
      "text/plain": [
       "0          553.201355\n",
       "1          278.372864\n",
       "2          452.971619\n",
       "3          113.241890\n",
       "4         5560.324219\n",
       "             ...     \n",
       "25040      712.329712\n",
       "25041    12039.315430\n",
       "25042        5.580158\n",
       "25043       92.420235\n",
       "25044       62.153599\n",
       "Name: household_weight, Length: 25045, dtype: float32"
      ]
     },
     "execution_count": 4,
     "metadata": {},
     "output_type": "execute_result"
    }
   ],
   "source": [
    "frs_calibrated.household.household_weight"
   ]
  }
 ],
 "metadata": {
  "kernelspec": {
   "display_name": "policyengine",
   "language": "python",
   "name": "python3"
  },
  "language_info": {
   "codemirror_mode": {
    "name": "ipython",
    "version": 3
   },
   "file_extension": ".py",
   "mimetype": "text/x-python",
   "name": "python",
   "nbconvert_exporter": "python",
   "pygments_lexer": "ipython3",
   "version": "3.11.13"
  }
 },
 "nbformat": 4,
 "nbformat_minor": 5
}
