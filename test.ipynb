{
 "cells": [
  {
   "cell_type": "code",
   "execution_count": 14,
   "id": "52c7bcd6",
   "metadata": {},
   "outputs": [],
   "source": [
    "import pandas as pd\n",
    "\n",
    "df = pd.read_csv(\"efrs.csv\")"
   ]
  },
  {
   "cell_type": "code",
   "execution_count": null,
   "id": "6247e1eb",
   "metadata": {},
   "outputs": [],
   "source": [
    "# First, read the data\n",
    "\n",
    "nhs = pd.read_csv(\"~/Downloads/NHS consumption data by gender and age - Main.csv\")\n",
    "\n",
    "# Clean age bounds\n",
    "\n",
    "def get_age_bounds(age_group: str):\n",
    "    if age_group == \"0 years\":\n",
    "        return 0, 1\n",
    "    if age_group == \"95 years or older\":\n",
    "        return 95, 120\n",
    "    \n",
    "    if \"-\" in age_group:\n",
    "        lower, upper = age_group[:5].split(\"-\")\n",
    "        lower = int(lower.strip())\n",
    "        upper = int(upper.strip())\n",
    "        return lower, upper + 1\n",
    "\n",
    "nhs[\"Lower age\"] = nhs[\"Age group\"].apply(lambda x: get_age_bounds(x)[0])\n",
    "nhs[\"Upper age\"] = nhs[\"Age group\"].apply(lambda x: get_age_bounds(x)[1])\n",
    "\n",
    "nhs = nhs.drop(columns=[\"Age group\"])\n",
    "\n",
    "index_cols = [\"Lower age\", \"Upper age\", \"Gender\", \"Service\"]\n",
    "\n",
    "# Get counts and total costs as columns\n",
    "nhs = nhs.pivot(\n",
    "    index=index_cols,\n",
    "    columns=\"Metric\",\n",
    "    values=\"Total\",\n",
    ")\n",
    "\n",
    "# Roll 80+ into 80-85\n",
    "\n",
    "nhs = nhs.reset_index()\n",
    "\n",
    "over_80_values = (nhs[nhs[\"Lower age\"] == 80].set_index([\"Gender\", \"Service\"]) + nhs[nhs[\"Lower age\"] > 80].groupby([\"Gender\", \"Service\"]).sum()).reset_index()\n",
    "\n",
    "nhs[nhs[\"Lower age\"] == 80][[\"Activity Count\", \"Total Cost\"]] = over_80_values[[\"Activity Count\", \"Total Cost\"]]\n",
    "nhs = nhs[nhs[\"Lower age\"] <= 80]\n",
    "nhs[nhs[\"Lower age\"] == 80][\"Upper age\"] = 120\n",
    "\n",
    "nhs[\"Spending per unit\"] = nhs[\"Total Cost\"] / nhs[\"Activity Count\"]\n",
    "\n",
    "# Now add total number in demographic groups using PE\n",
    "\n",
    "nhs[\"Total people\"] = np.ones_like(nhs[\"Total Cost\"])\n",
    "\n",
    "for i in range(len(nhs)):\n",
    "    row = nhs.iloc[i]\n",
    "    count = df[df.age__2022.between(row[\"Lower age\"], row[\"Upper age\"] - 1)][df.gender__2022 == row.Gender.upper()].household_weight__2022.sum()\n",
    "    nhs.loc[i, \"Total people\"] = count\n",
    "\n",
    "nhs[\"Per-person average units\"] = nhs[\"Activity Count\"] / nhs[\"Total people\"]\n",
    "nhs[\"Per-person average spending\"] = nhs[\"Total Cost\"] / nhs[\"Total people\"]\n",
    "indirect_cost_adjustment_factor = 124e9 / nhs[\"Total Cost\"].sum() # 124 billion is the NHS budget from 2019/20, the same year as the data\n",
    "# https://obr.uk/box/other-cost-pressures-in-the-health-sector/ <- points to OECD estimates of 1.7% annual increase in cost pressures that are not demographic\n",
    "uprating = 1.017 ** (2022 - 2019)\n",
    "\n",
    "nhs[\"Per-person average spending\"] *= indirect_cost_adjustment_factor * uprating"
   ]
  },
  {
   "cell_type": "code",
   "execution_count": 170,
   "id": "f4174356",
   "metadata": {},
   "outputs": [
    {
     "data": {
      "text/html": [
       "<div>\n",
       "<style scoped>\n",
       "    .dataframe tbody tr th:only-of-type {\n",
       "        vertical-align: middle;\n",
       "    }\n",
       "\n",
       "    .dataframe tbody tr th {\n",
       "        vertical-align: top;\n",
       "    }\n",
       "\n",
       "    .dataframe thead th {\n",
       "        text-align: right;\n",
       "    }\n",
       "</style>\n",
       "<table border=\"1\" class=\"dataframe\">\n",
       "  <thead>\n",
       "    <tr style=\"text-align: right;\">\n",
       "      <th>Metric</th>\n",
       "      <th>Lower age</th>\n",
       "      <th>Upper age</th>\n",
       "      <th>Gender</th>\n",
       "      <th>Service</th>\n",
       "      <th>Activity Count</th>\n",
       "      <th>Total Cost</th>\n",
       "      <th>Spending per unit</th>\n",
       "      <th>Total people</th>\n",
       "      <th>Per-person average units</th>\n",
       "      <th>Per-person average spending</th>\n",
       "    </tr>\n",
       "  </thead>\n",
       "  <tbody>\n",
       "    <tr>\n",
       "      <th>0</th>\n",
       "      <td>0</td>\n",
       "      <td>1</td>\n",
       "      <td>Female</td>\n",
       "      <td>AE</td>\n",
       "      <td>212079.0</td>\n",
       "      <td>3.014877e+07</td>\n",
       "      <td>142.158208</td>\n",
       "      <td>3.476480e+05</td>\n",
       "      <td>0.610039</td>\n",
       "      <td>304.450208</td>\n",
       "    </tr>\n",
       "    <tr>\n",
       "      <th>1</th>\n",
       "      <td>0</td>\n",
       "      <td>1</td>\n",
       "      <td>Female</td>\n",
       "      <td>APC</td>\n",
       "      <td>179975.0</td>\n",
       "      <td>2.497774e+08</td>\n",
       "      <td>1387.844784</td>\n",
       "      <td>3.476480e+05</td>\n",
       "      <td>0.517693</td>\n",
       "      <td>2522.317458</td>\n",
       "    </tr>\n",
       "    <tr>\n",
       "      <th>2</th>\n",
       "      <td>0</td>\n",
       "      <td>1</td>\n",
       "      <td>Female</td>\n",
       "      <td>OP</td>\n",
       "      <td>325441.0</td>\n",
       "      <td>5.887270e+07</td>\n",
       "      <td>180.901309</td>\n",
       "      <td>3.476480e+05</td>\n",
       "      <td>0.936122</td>\n",
       "      <td>594.512022</td>\n",
       "    </tr>\n",
       "    <tr>\n",
       "      <th>3</th>\n",
       "      <td>0</td>\n",
       "      <td>1</td>\n",
       "      <td>Male</td>\n",
       "      <td>AE</td>\n",
       "      <td>266383.0</td>\n",
       "      <td>3.859737e+07</td>\n",
       "      <td>144.894269</td>\n",
       "      <td>3.843700e+05</td>\n",
       "      <td>0.693038</td>\n",
       "      <td>352.528823</td>\n",
       "    </tr>\n",
       "    <tr>\n",
       "      <th>4</th>\n",
       "      <td>0</td>\n",
       "      <td>1</td>\n",
       "      <td>Male</td>\n",
       "      <td>APC</td>\n",
       "      <td>231010.0</td>\n",
       "      <td>3.242232e+08</td>\n",
       "      <td>1403.502835</td>\n",
       "      <td>3.843700e+05</td>\n",
       "      <td>0.601009</td>\n",
       "      <td>2961.290351</td>\n",
       "    </tr>\n",
       "    <tr>\n",
       "      <th>...</th>\n",
       "      <td>...</td>\n",
       "      <td>...</td>\n",
       "      <td>...</td>\n",
       "      <td>...</td>\n",
       "      <td>...</td>\n",
       "      <td>...</td>\n",
       "      <td>...</td>\n",
       "      <td>...</td>\n",
       "      <td>...</td>\n",
       "      <td>...</td>\n",
       "    </tr>\n",
       "    <tr>\n",
       "      <th>103</th>\n",
       "      <td>80</td>\n",
       "      <td>85</td>\n",
       "      <td>Female</td>\n",
       "      <td>APC</td>\n",
       "      <td>701215.0</td>\n",
       "      <td>1.349578e+09</td>\n",
       "      <td>1924.628434</td>\n",
       "      <td>1.813444e+06</td>\n",
       "      <td>0.386676</td>\n",
       "      <td>2612.644661</td>\n",
       "    </tr>\n",
       "    <tr>\n",
       "      <th>104</th>\n",
       "      <td>80</td>\n",
       "      <td>85</td>\n",
       "      <td>Female</td>\n",
       "      <td>OP</td>\n",
       "      <td>2162918.0</td>\n",
       "      <td>2.932964e+08</td>\n",
       "      <td>135.602179</td>\n",
       "      <td>1.813444e+06</td>\n",
       "      <td>1.192713</td>\n",
       "      <td>567.791613</td>\n",
       "    </tr>\n",
       "    <tr>\n",
       "      <th>105</th>\n",
       "      <td>80</td>\n",
       "      <td>85</td>\n",
       "      <td>Male</td>\n",
       "      <td>AE</td>\n",
       "      <td>323601.0</td>\n",
       "      <td>9.005399e+07</td>\n",
       "      <td>278.287104</td>\n",
       "      <td>1.350678e+06</td>\n",
       "      <td>0.239584</td>\n",
       "      <td>234.065557</td>\n",
       "    </tr>\n",
       "    <tr>\n",
       "      <th>106</th>\n",
       "      <td>80</td>\n",
       "      <td>85</td>\n",
       "      <td>Male</td>\n",
       "      <td>APC</td>\n",
       "      <td>679676.0</td>\n",
       "      <td>1.274705e+09</td>\n",
       "      <td>1875.459773</td>\n",
       "      <td>1.350678e+06</td>\n",
       "      <td>0.503211</td>\n",
       "      <td>3313.174141</td>\n",
       "    </tr>\n",
       "    <tr>\n",
       "      <th>107</th>\n",
       "      <td>80</td>\n",
       "      <td>85</td>\n",
       "      <td>Male</td>\n",
       "      <td>OP</td>\n",
       "      <td>2079196.0</td>\n",
       "      <td>2.820061e+08</td>\n",
       "      <td>135.632274</td>\n",
       "      <td>1.350678e+06</td>\n",
       "      <td>1.539372</td>\n",
       "      <td>732.981561</td>\n",
       "    </tr>\n",
       "  </tbody>\n",
       "</table>\n",
       "<p>108 rows × 10 columns</p>\n",
       "</div>"
      ],
      "text/plain": [
       "Metric  Lower age  Upper age  Gender Service  Activity Count    Total Cost  \\\n",
       "0               0          1  Female      AE        212079.0  3.014877e+07   \n",
       "1               0          1  Female     APC        179975.0  2.497774e+08   \n",
       "2               0          1  Female      OP        325441.0  5.887270e+07   \n",
       "3               0          1    Male      AE        266383.0  3.859737e+07   \n",
       "4               0          1    Male     APC        231010.0  3.242232e+08   \n",
       "..            ...        ...     ...     ...             ...           ...   \n",
       "103            80         85  Female     APC        701215.0  1.349578e+09   \n",
       "104            80         85  Female      OP       2162918.0  2.932964e+08   \n",
       "105            80         85    Male      AE        323601.0  9.005399e+07   \n",
       "106            80         85    Male     APC        679676.0  1.274705e+09   \n",
       "107            80         85    Male      OP       2079196.0  2.820061e+08   \n",
       "\n",
       "Metric  Spending per unit  Total people  Per-person average units  \\\n",
       "0              142.158208  3.476480e+05                  0.610039   \n",
       "1             1387.844784  3.476480e+05                  0.517693   \n",
       "2              180.901309  3.476480e+05                  0.936122   \n",
       "3              144.894269  3.843700e+05                  0.693038   \n",
       "4             1403.502835  3.843700e+05                  0.601009   \n",
       "..                    ...           ...                       ...   \n",
       "103           1924.628434  1.813444e+06                  0.386676   \n",
       "104            135.602179  1.813444e+06                  1.192713   \n",
       "105            278.287104  1.350678e+06                  0.239584   \n",
       "106           1875.459773  1.350678e+06                  0.503211   \n",
       "107            135.632274  1.350678e+06                  1.539372   \n",
       "\n",
       "Metric  Per-person average spending  \n",
       "0                        304.450208  \n",
       "1                       2522.317458  \n",
       "2                        594.512022  \n",
       "3                        352.528823  \n",
       "4                       2961.290351  \n",
       "..                              ...  \n",
       "103                     2612.644661  \n",
       "104                      567.791613  \n",
       "105                      234.065557  \n",
       "106                     3313.174141  \n",
       "107                      732.981561  \n",
       "\n",
       "[108 rows x 10 columns]"
      ]
     },
     "execution_count": 170,
     "metadata": {},
     "output_type": "execute_result"
    }
   ],
   "source": [
    "nhs"
   ]
  },
  {
   "cell_type": "code",
   "execution_count": 179,
   "id": "9f78bfbf",
   "metadata": {},
   "outputs": [
    {
     "name": "stderr",
     "output_type": "stream",
     "text": [
      "100%|██████████| 214308/214308 [01:59<00:00, 1796.03it/s]\n"
     ]
    }
   ],
   "source": [
    "from tqdm import tqdm\n",
    "\n",
    "spending_values = []\n",
    "\n",
    "for i in tqdm(range(len(df))):\n",
    "    age = df.iloc[i].age__2022\n",
    "    gender = df.iloc[i].gender__2022\n",
    "\n",
    "    spending = nhs[nhs[\"Lower age\"] <= age][nhs[\"Upper age\"] > age][nhs[\"Gender\"].str.upper() == gender][\"Per-person average spending\"].values[0]\n",
    "\n",
    "    spending_values.append(spending)"
   ]
  },
  {
   "cell_type": "code",
   "execution_count": 180,
   "id": "4d27656a",
   "metadata": {},
   "outputs": [],
   "source": [
    "df[\"nhs_spending__2022\"] = spending_values"
   ]
  },
  {
   "cell_type": "code",
   "execution_count": 181,
   "id": "6f0f903f",
   "metadata": {},
   "outputs": [],
   "source": [
    "df.to_csv(\"efrs_imputed.csv\", index=False)"
   ]
  },
  {
   "cell_type": "code",
   "execution_count": 176,
   "id": "2bd30f45",
   "metadata": {},
   "outputs": [],
   "source": [
    "sim = Microsimulation(dataset=df)"
   ]
  },
  {
   "cell_type": "code",
   "execution_count": 177,
   "id": "0682e7e2",
   "metadata": {},
   "outputs": [
    {
     "ename": "ValueError",
     "evalue": "Variable nhs_spending does not exist.",
     "output_type": "error",
     "traceback": [
      "\u001b[0;31m---------------------------------------------------------------------------\u001b[0m",
      "\u001b[0;31mValueError\u001b[0m                                Traceback (most recent call last)",
      "Cell \u001b[0;32mIn[177], line 1\u001b[0m\n\u001b[0;32m----> 1\u001b[0m px\u001b[38;5;241m.\u001b[39mbar(\u001b[43msim\u001b[49m\u001b[38;5;241;43m.\u001b[39;49m\u001b[43mcalculate\u001b[49m\u001b[43m(\u001b[49m\u001b[38;5;124;43m\"\u001b[39;49m\u001b[38;5;124;43mnhs_spending\u001b[39;49m\u001b[38;5;124;43m\"\u001b[39;49m\u001b[43m,\u001b[49m\u001b[43m \u001b[49m\u001b[38;5;241;43m2025\u001b[39;49m\u001b[43m,\u001b[49m\u001b[43m \u001b[49m\u001b[43mmap_to\u001b[49m\u001b[38;5;241;43m=\u001b[39;49m\u001b[38;5;124;43m\"\u001b[39;49m\u001b[38;5;124;43mhousehold\u001b[39;49m\u001b[38;5;124;43m\"\u001b[39;49m\u001b[43m)\u001b[49m\u001b[38;5;241m.\u001b[39mgroupby(sim\u001b[38;5;241m.\u001b[39mcalculate(\u001b[38;5;124m\"\u001b[39m\u001b[38;5;124mhousehold_income_decile\u001b[39m\u001b[38;5;124m\"\u001b[39m, \u001b[38;5;241m2025\u001b[39m))\u001b[38;5;241m.\u001b[39mmean())\n",
      "File \u001b[0;32m~/policyengine/policyengine-core/policyengine_core/simulations/microsimulation.py:54\u001b[0m, in \u001b[0;36mMicrosimulation.calculate\u001b[0;34m(self, variable_name, period, map_to, use_weights, decode_enums)\u001b[0m\n\u001b[1;32m     52\u001b[0m \u001b[38;5;28;01melif\u001b[39;00m period \u001b[38;5;129;01mis\u001b[39;00m \u001b[38;5;28;01mNone\u001b[39;00m \u001b[38;5;129;01mand\u001b[39;00m \u001b[38;5;28mself\u001b[39m\u001b[38;5;241m.\u001b[39mdefault_calculation_period \u001b[38;5;129;01mis\u001b[39;00m \u001b[38;5;129;01mnot\u001b[39;00m \u001b[38;5;28;01mNone\u001b[39;00m:\n\u001b[1;32m     53\u001b[0m     period \u001b[38;5;241m=\u001b[39m get_period(\u001b[38;5;28mself\u001b[39m\u001b[38;5;241m.\u001b[39mdefault_calculation_period)\n\u001b[0;32m---> 54\u001b[0m values \u001b[38;5;241m=\u001b[39m \u001b[38;5;28;43msuper\u001b[39;49m\u001b[43m(\u001b[49m\u001b[43m)\u001b[49m\u001b[38;5;241;43m.\u001b[39;49m\u001b[43mcalculate\u001b[49m\u001b[43m(\u001b[49m\u001b[43mvariable_name\u001b[49m\u001b[43m,\u001b[49m\u001b[43m \u001b[49m\u001b[43mperiod\u001b[49m\u001b[43m,\u001b[49m\u001b[43m \u001b[49m\u001b[43mmap_to\u001b[49m\u001b[43m,\u001b[49m\u001b[43m \u001b[49m\u001b[43mdecode_enums\u001b[49m\u001b[43m)\u001b[49m\n\u001b[1;32m     55\u001b[0m \u001b[38;5;28;01mif\u001b[39;00m \u001b[38;5;129;01mnot\u001b[39;00m use_weights:\n\u001b[1;32m     56\u001b[0m     \u001b[38;5;28;01mreturn\u001b[39;00m values\n",
      "File \u001b[0;32m~/policyengine/policyengine-core/policyengine_core/simulations/simulation.py:477\u001b[0m, in \u001b[0;36mSimulation.calculate\u001b[0;34m(self, variable_name, period, map_to, decode_enums)\u001b[0m\n\u001b[1;32m    474\u001b[0m np\u001b[38;5;241m.\u001b[39mrandom\u001b[38;5;241m.\u001b[39mseed(\u001b[38;5;28mhash\u001b[39m(variable_name \u001b[38;5;241m+\u001b[39m \u001b[38;5;28mstr\u001b[39m(period)) \u001b[38;5;241m%\u001b[39m \u001b[38;5;241m1000000\u001b[39m)\n\u001b[1;32m    476\u001b[0m \u001b[38;5;28;01mtry\u001b[39;00m:\n\u001b[0;32m--> 477\u001b[0m     result \u001b[38;5;241m=\u001b[39m \u001b[38;5;28;43mself\u001b[39;49m\u001b[38;5;241;43m.\u001b[39;49m\u001b[43m_calculate\u001b[49m\u001b[43m(\u001b[49m\u001b[43mvariable_name\u001b[49m\u001b[43m,\u001b[49m\u001b[43m \u001b[49m\u001b[43mperiod\u001b[49m\u001b[43m)\u001b[49m\n\u001b[1;32m    478\u001b[0m     \u001b[38;5;28;01mif\u001b[39;00m \u001b[38;5;28misinstance\u001b[39m(result, EnumArray) \u001b[38;5;129;01mand\u001b[39;00m decode_enums:\n\u001b[1;32m    479\u001b[0m         result \u001b[38;5;241m=\u001b[39m result\u001b[38;5;241m.\u001b[39mdecode_to_str()\n",
      "File \u001b[0;32m~/policyengine/policyengine-core/policyengine_core/simulations/simulation.py:602\u001b[0m, in \u001b[0;36mSimulation._calculate\u001b[0;34m(self, variable_name, period)\u001b[0m\n\u001b[1;32m    591\u001b[0m \u001b[38;5;250m\u001b[39m\u001b[38;5;124;03m\"\"\"\u001b[39;00m\n\u001b[1;32m    592\u001b[0m \u001b[38;5;124;03mCalculate the variable ``variable_name`` for the period ``period``, using the variable formula if it exists.\u001b[39;00m\n\u001b[1;32m    593\u001b[0m \n\u001b[0;32m   (...)\u001b[0m\n\u001b[1;32m    599\u001b[0m \u001b[38;5;124;03m    ArrayLike: The calculated variable.\u001b[39;00m\n\u001b[1;32m    600\u001b[0m \u001b[38;5;124;03m\"\"\"\u001b[39;00m\n\u001b[1;32m    601\u001b[0m \u001b[38;5;28;01mif\u001b[39;00m variable_name \u001b[38;5;129;01mnot\u001b[39;00m \u001b[38;5;129;01min\u001b[39;00m \u001b[38;5;28mself\u001b[39m\u001b[38;5;241m.\u001b[39mtax_benefit_system\u001b[38;5;241m.\u001b[39mvariables:\n\u001b[0;32m--> 602\u001b[0m     \u001b[38;5;28;01mraise\u001b[39;00m \u001b[38;5;167;01mValueError\u001b[39;00m(\u001b[38;5;124mf\u001b[39m\u001b[38;5;124m\"\u001b[39m\u001b[38;5;124mVariable \u001b[39m\u001b[38;5;132;01m{\u001b[39;00mvariable_name\u001b[38;5;132;01m}\u001b[39;00m\u001b[38;5;124m does not exist.\u001b[39m\u001b[38;5;124m\"\u001b[39m)\n\u001b[1;32m    603\u001b[0m population \u001b[38;5;241m=\u001b[39m \u001b[38;5;28mself\u001b[39m\u001b[38;5;241m.\u001b[39mget_variable_population(variable_name)\n\u001b[1;32m    604\u001b[0m holder \u001b[38;5;241m=\u001b[39m population\u001b[38;5;241m.\u001b[39mget_holder(variable_name)\n",
      "\u001b[0;31mValueError\u001b[0m: Variable nhs_spending does not exist."
     ]
    }
   ],
   "source": [
    "px.bar(sim.calculate(\"nhs_spending\", 2025, map_to=\"household\").groupby(sim.calculate(\"household_income_decile\", 2025)).mean())"
   ]
  },
  {
   "cell_type": "code",
   "execution_count": 54,
   "id": "d29b96d0",
   "metadata": {},
   "outputs": [
    {
     "data": {
      "text/html": [
       "\n",
       "    <link rel=\"preconnect\" href=\"https://fonts.googleapis.com\">\n",
       "    <link rel=\"preconnect\" href=\"https://fonts.gstatic.com\" crossorigin>\n",
       "    <link href=\"https://fonts.googleapis.com/css2?family=Roboto+Serif:ital,opsz,wght@0,8..144,100..900;1,8..144,100..900&display=swap\" rel=\"stylesheet\">\n",
       "    "
      ]
     },
     "metadata": {},
     "output_type": "display_data"
    }
   ],
   "source": [
    "add_fonts()"
   ]
  },
  {
   "cell_type": "code",
   "execution_count": 167,
   "id": "102b9054",
   "metadata": {},
   "outputs": [
    {
     "data": {
      "application/vnd.plotly.v1+json": {
       "config": {
        "plotlyServerURL": "https://plot.ly"
       },
       "data": [
        {
         "hovertemplate": "Gender=Female<br>Lower age=%{x}<br>Per-person average spending=%{y}<extra></extra>",
         "legendgroup": "Female",
         "line": {
          "color": "#4C78A8",
          "dash": "solid"
         },
         "marker": {
          "symbol": "circle"
         },
         "mode": "lines",
         "name": "Female",
         "orientation": "v",
         "showlegend": true,
         "type": "scatter",
         "x": [
          0,
          1,
          5,
          10,
          15,
          20,
          25,
          30,
          35,
          40,
          45,
          50,
          55,
          60,
          65,
          70,
          75,
          80
         ],
         "xaxis": "x",
         "y": [
          3252.563021994912,
          955.5298410617722,
          615.8828249482716,
          700.6507440787359,
          1192.9873873181164,
          1642.3115492961886,
          2318.1432370548428,
          2523.9235126884782,
          2009.6606520070331,
          1426.1300626533766,
          1645.9566797974987,
          1794.5698507684172,
          1891.1747041145,
          2124.566960992708,
          2758.1570197406904,
          3616.2916396408455,
          4063.153890752961,
          3216.0722190548754
         ],
         "yaxis": "y"
        },
        {
         "hovertemplate": "Gender=Male<br>Lower age=%{x}<br>Per-person average spending=%{y}<extra></extra>",
         "legendgroup": "Male",
         "line": {
          "color": "#F58518",
          "dash": "solid"
         },
         "marker": {
          "symbol": "circle"
         },
         "mode": "lines",
         "name": "Male",
         "orientation": "v",
         "showlegend": true,
         "type": "scatter",
         "x": [
          0,
          1,
          5,
          10,
          15,
          20,
          25,
          30,
          35,
          40,
          45,
          50,
          55,
          60,
          65,
          70,
          75,
          80
         ],
         "xaxis": "x",
         "y": [
          3795.5671942329373,
          1180.9358035298717,
          760.9741790789731,
          729.3336731458412,
          790.3769569758042,
          745.5082454043469,
          741.740569633161,
          785.2521371399214,
          888.1893819591239,
          988.6772737666521,
          1368.1035045197225,
          1737.5452305018061,
          1888.4987205972411,
          2453.043652914103,
          3467.7975033311445,
          4202.663924633436,
          4862.378374768642,
          4069.146828184484
         ],
         "yaxis": "y"
        }
       ],
       "layout": {
        "font": {
         "color": "black",
         "family": "Roboto Serif"
        },
        "height": 600,
        "images": [
         {
          "sizex": 0.15,
          "sizey": 0.15,
          "source": "https://raw.githubusercontent.com/PolicyEngine/policyengine-app/master/src/images/logos/policyengine/blue.png",
          "x": 1.1,
          "xanchor": "right",
          "xref": "paper",
          "y": -0.15,
          "yanchor": "bottom",
          "yref": "paper"
         }
        ],
        "legend": {
         "title": {
          "text": "Gender"
         },
         "tracegroupgap": 0
        },
        "margin": {
         "t": 60
        },
        "modebar": {
         "bgcolor": "rgba(0,0,0,0)",
         "color": "rgba(0,0,0,0)"
        },
        "template": {
         "data": {
          "bar": [
           {
            "error_x": {
             "color": "#2a3f5f"
            },
            "error_y": {
             "color": "#2a3f5f"
            },
            "marker": {
             "line": {
              "color": "white",
              "width": 0.5
             },
             "pattern": {
              "fillmode": "overlay",
              "size": 10,
              "solidity": 0.2
             }
            },
            "type": "bar"
           }
          ],
          "barpolar": [
           {
            "marker": {
             "line": {
              "color": "white",
              "width": 0.5
             },
             "pattern": {
              "fillmode": "overlay",
              "size": 10,
              "solidity": 0.2
             }
            },
            "type": "barpolar"
           }
          ],
          "carpet": [
           {
            "aaxis": {
             "endlinecolor": "#2a3f5f",
             "gridcolor": "#C8D4E3",
             "linecolor": "#C8D4E3",
             "minorgridcolor": "#C8D4E3",
             "startlinecolor": "#2a3f5f"
            },
            "baxis": {
             "endlinecolor": "#2a3f5f",
             "gridcolor": "#C8D4E3",
             "linecolor": "#C8D4E3",
             "minorgridcolor": "#C8D4E3",
             "startlinecolor": "#2a3f5f"
            },
            "type": "carpet"
           }
          ],
          "choropleth": [
           {
            "colorbar": {
             "outlinewidth": 0,
             "ticks": ""
            },
            "type": "choropleth"
           }
          ],
          "contour": [
           {
            "colorbar": {
             "outlinewidth": 0,
             "ticks": ""
            },
            "colorscale": [
             [
              0,
              "#0d0887"
             ],
             [
              0.1111111111111111,
              "#46039f"
             ],
             [
              0.2222222222222222,
              "#7201a8"
             ],
             [
              0.3333333333333333,
              "#9c179e"
             ],
             [
              0.4444444444444444,
              "#bd3786"
             ],
             [
              0.5555555555555556,
              "#d8576b"
             ],
             [
              0.6666666666666666,
              "#ed7953"
             ],
             [
              0.7777777777777778,
              "#fb9f3a"
             ],
             [
              0.8888888888888888,
              "#fdca26"
             ],
             [
              1,
              "#f0f921"
             ]
            ],
            "type": "contour"
           }
          ],
          "contourcarpet": [
           {
            "colorbar": {
             "outlinewidth": 0,
             "ticks": ""
            },
            "type": "contourcarpet"
           }
          ],
          "heatmap": [
           {
            "colorbar": {
             "outlinewidth": 0,
             "ticks": ""
            },
            "colorscale": [
             [
              0,
              "#0d0887"
             ],
             [
              0.1111111111111111,
              "#46039f"
             ],
             [
              0.2222222222222222,
              "#7201a8"
             ],
             [
              0.3333333333333333,
              "#9c179e"
             ],
             [
              0.4444444444444444,
              "#bd3786"
             ],
             [
              0.5555555555555556,
              "#d8576b"
             ],
             [
              0.6666666666666666,
              "#ed7953"
             ],
             [
              0.7777777777777778,
              "#fb9f3a"
             ],
             [
              0.8888888888888888,
              "#fdca26"
             ],
             [
              1,
              "#f0f921"
             ]
            ],
            "type": "heatmap"
           }
          ],
          "heatmapgl": [
           {
            "colorbar": {
             "outlinewidth": 0,
             "ticks": ""
            },
            "colorscale": [
             [
              0,
              "#0d0887"
             ],
             [
              0.1111111111111111,
              "#46039f"
             ],
             [
              0.2222222222222222,
              "#7201a8"
             ],
             [
              0.3333333333333333,
              "#9c179e"
             ],
             [
              0.4444444444444444,
              "#bd3786"
             ],
             [
              0.5555555555555556,
              "#d8576b"
             ],
             [
              0.6666666666666666,
              "#ed7953"
             ],
             [
              0.7777777777777778,
              "#fb9f3a"
             ],
             [
              0.8888888888888888,
              "#fdca26"
             ],
             [
              1,
              "#f0f921"
             ]
            ],
            "type": "heatmapgl"
           }
          ],
          "histogram": [
           {
            "marker": {
             "pattern": {
              "fillmode": "overlay",
              "size": 10,
              "solidity": 0.2
             }
            },
            "type": "histogram"
           }
          ],
          "histogram2d": [
           {
            "colorbar": {
             "outlinewidth": 0,
             "ticks": ""
            },
            "colorscale": [
             [
              0,
              "#0d0887"
             ],
             [
              0.1111111111111111,
              "#46039f"
             ],
             [
              0.2222222222222222,
              "#7201a8"
             ],
             [
              0.3333333333333333,
              "#9c179e"
             ],
             [
              0.4444444444444444,
              "#bd3786"
             ],
             [
              0.5555555555555556,
              "#d8576b"
             ],
             [
              0.6666666666666666,
              "#ed7953"
             ],
             [
              0.7777777777777778,
              "#fb9f3a"
             ],
             [
              0.8888888888888888,
              "#fdca26"
             ],
             [
              1,
              "#f0f921"
             ]
            ],
            "type": "histogram2d"
           }
          ],
          "histogram2dcontour": [
           {
            "colorbar": {
             "outlinewidth": 0,
             "ticks": ""
            },
            "colorscale": [
             [
              0,
              "#0d0887"
             ],
             [
              0.1111111111111111,
              "#46039f"
             ],
             [
              0.2222222222222222,
              "#7201a8"
             ],
             [
              0.3333333333333333,
              "#9c179e"
             ],
             [
              0.4444444444444444,
              "#bd3786"
             ],
             [
              0.5555555555555556,
              "#d8576b"
             ],
             [
              0.6666666666666666,
              "#ed7953"
             ],
             [
              0.7777777777777778,
              "#fb9f3a"
             ],
             [
              0.8888888888888888,
              "#fdca26"
             ],
             [
              1,
              "#f0f921"
             ]
            ],
            "type": "histogram2dcontour"
           }
          ],
          "mesh3d": [
           {
            "colorbar": {
             "outlinewidth": 0,
             "ticks": ""
            },
            "type": "mesh3d"
           }
          ],
          "parcoords": [
           {
            "line": {
             "colorbar": {
              "outlinewidth": 0,
              "ticks": ""
             }
            },
            "type": "parcoords"
           }
          ],
          "pie": [
           {
            "automargin": true,
            "type": "pie"
           }
          ],
          "scatter": [
           {
            "fillpattern": {
             "fillmode": "overlay",
             "size": 10,
             "solidity": 0.2
            },
            "type": "scatter"
           }
          ],
          "scatter3d": [
           {
            "line": {
             "colorbar": {
              "outlinewidth": 0,
              "ticks": ""
             }
            },
            "marker": {
             "colorbar": {
              "outlinewidth": 0,
              "ticks": ""
             }
            },
            "type": "scatter3d"
           }
          ],
          "scattercarpet": [
           {
            "marker": {
             "colorbar": {
              "outlinewidth": 0,
              "ticks": ""
             }
            },
            "type": "scattercarpet"
           }
          ],
          "scattergeo": [
           {
            "marker": {
             "colorbar": {
              "outlinewidth": 0,
              "ticks": ""
             }
            },
            "type": "scattergeo"
           }
          ],
          "scattergl": [
           {
            "marker": {
             "colorbar": {
              "outlinewidth": 0,
              "ticks": ""
             }
            },
            "type": "scattergl"
           }
          ],
          "scattermapbox": [
           {
            "marker": {
             "colorbar": {
              "outlinewidth": 0,
              "ticks": ""
             }
            },
            "type": "scattermapbox"
           }
          ],
          "scatterpolar": [
           {
            "marker": {
             "colorbar": {
              "outlinewidth": 0,
              "ticks": ""
             }
            },
            "type": "scatterpolar"
           }
          ],
          "scatterpolargl": [
           {
            "marker": {
             "colorbar": {
              "outlinewidth": 0,
              "ticks": ""
             }
            },
            "type": "scatterpolargl"
           }
          ],
          "scatterternary": [
           {
            "marker": {
             "colorbar": {
              "outlinewidth": 0,
              "ticks": ""
             }
            },
            "type": "scatterternary"
           }
          ],
          "surface": [
           {
            "colorbar": {
             "outlinewidth": 0,
             "ticks": ""
            },
            "colorscale": [
             [
              0,
              "#0d0887"
             ],
             [
              0.1111111111111111,
              "#46039f"
             ],
             [
              0.2222222222222222,
              "#7201a8"
             ],
             [
              0.3333333333333333,
              "#9c179e"
             ],
             [
              0.4444444444444444,
              "#bd3786"
             ],
             [
              0.5555555555555556,
              "#d8576b"
             ],
             [
              0.6666666666666666,
              "#ed7953"
             ],
             [
              0.7777777777777778,
              "#fb9f3a"
             ],
             [
              0.8888888888888888,
              "#fdca26"
             ],
             [
              1,
              "#f0f921"
             ]
            ],
            "type": "surface"
           }
          ],
          "table": [
           {
            "cells": {
             "fill": {
              "color": "#EBF0F8"
             },
             "line": {
              "color": "white"
             }
            },
            "header": {
             "fill": {
              "color": "#C8D4E3"
             },
             "line": {
              "color": "white"
             }
            },
            "type": "table"
           }
          ]
         },
         "layout": {
          "annotationdefaults": {
           "arrowcolor": "#2a3f5f",
           "arrowhead": 0,
           "arrowwidth": 1
          },
          "autotypenumbers": "strict",
          "coloraxis": {
           "colorbar": {
            "outlinewidth": 0,
            "ticks": ""
           }
          },
          "colorscale": {
           "diverging": [
            [
             0,
             "#8e0152"
            ],
            [
             0.1,
             "#c51b7d"
            ],
            [
             0.2,
             "#de77ae"
            ],
            [
             0.3,
             "#f1b6da"
            ],
            [
             0.4,
             "#fde0ef"
            ],
            [
             0.5,
             "#f7f7f7"
            ],
            [
             0.6,
             "#e6f5d0"
            ],
            [
             0.7,
             "#b8e186"
            ],
            [
             0.8,
             "#7fbc41"
            ],
            [
             0.9,
             "#4d9221"
            ],
            [
             1,
             "#276419"
            ]
           ],
           "sequential": [
            [
             0,
             "#0d0887"
            ],
            [
             0.1111111111111111,
             "#46039f"
            ],
            [
             0.2222222222222222,
             "#7201a8"
            ],
            [
             0.3333333333333333,
             "#9c179e"
            ],
            [
             0.4444444444444444,
             "#bd3786"
            ],
            [
             0.5555555555555556,
             "#d8576b"
            ],
            [
             0.6666666666666666,
             "#ed7953"
            ],
            [
             0.7777777777777778,
             "#fb9f3a"
            ],
            [
             0.8888888888888888,
             "#fdca26"
            ],
            [
             1,
             "#f0f921"
            ]
           ],
           "sequentialminus": [
            [
             0,
             "#0d0887"
            ],
            [
             0.1111111111111111,
             "#46039f"
            ],
            [
             0.2222222222222222,
             "#7201a8"
            ],
            [
             0.3333333333333333,
             "#9c179e"
            ],
            [
             0.4444444444444444,
             "#bd3786"
            ],
            [
             0.5555555555555556,
             "#d8576b"
            ],
            [
             0.6666666666666666,
             "#ed7953"
            ],
            [
             0.7777777777777778,
             "#fb9f3a"
            ],
            [
             0.8888888888888888,
             "#fdca26"
            ],
            [
             1,
             "#f0f921"
            ]
           ]
          },
          "colorway": [
           "#636efa",
           "#EF553B",
           "#00cc96",
           "#ab63fa",
           "#FFA15A",
           "#19d3f3",
           "#FF6692",
           "#B6E880",
           "#FF97FF",
           "#FECB52"
          ],
          "font": {
           "color": "#2a3f5f"
          },
          "geo": {
           "bgcolor": "white",
           "lakecolor": "white",
           "landcolor": "white",
           "showlakes": true,
           "showland": true,
           "subunitcolor": "#C8D4E3"
          },
          "hoverlabel": {
           "align": "left"
          },
          "hovermode": "closest",
          "mapbox": {
           "style": "light"
          },
          "paper_bgcolor": "white",
          "plot_bgcolor": "white",
          "polar": {
           "angularaxis": {
            "gridcolor": "#EBF0F8",
            "linecolor": "#EBF0F8",
            "ticks": ""
           },
           "bgcolor": "white",
           "radialaxis": {
            "gridcolor": "#EBF0F8",
            "linecolor": "#EBF0F8",
            "ticks": ""
           }
          },
          "scene": {
           "xaxis": {
            "backgroundcolor": "white",
            "gridcolor": "#DFE8F3",
            "gridwidth": 2,
            "linecolor": "#EBF0F8",
            "showbackground": true,
            "ticks": "",
            "zerolinecolor": "#EBF0F8"
           },
           "yaxis": {
            "backgroundcolor": "white",
            "gridcolor": "#DFE8F3",
            "gridwidth": 2,
            "linecolor": "#EBF0F8",
            "showbackground": true,
            "ticks": "",
            "zerolinecolor": "#EBF0F8"
           },
           "zaxis": {
            "backgroundcolor": "white",
            "gridcolor": "#DFE8F3",
            "gridwidth": 2,
            "linecolor": "#EBF0F8",
            "showbackground": true,
            "ticks": "",
            "zerolinecolor": "#EBF0F8"
           }
          },
          "shapedefaults": {
           "line": {
            "color": "#2a3f5f"
           }
          },
          "ternary": {
           "aaxis": {
            "gridcolor": "#DFE8F3",
            "linecolor": "#A2B1C6",
            "ticks": ""
           },
           "baxis": {
            "gridcolor": "#DFE8F3",
            "linecolor": "#A2B1C6",
            "ticks": ""
           },
           "bgcolor": "white",
           "caxis": {
            "gridcolor": "#DFE8F3",
            "linecolor": "#A2B1C6",
            "ticks": ""
           }
          },
          "title": {
           "x": 0.05
          },
          "xaxis": {
           "automargin": true,
           "gridcolor": "#EBF0F8",
           "linecolor": "#EBF0F8",
           "ticks": "",
           "title": {
            "standoff": 15
           },
           "zerolinecolor": "#EBF0F8",
           "zerolinewidth": 2
          },
          "yaxis": {
           "automargin": true,
           "gridcolor": "#EBF0F8",
           "linecolor": "#EBF0F8",
           "ticks": "",
           "title": {
            "standoff": 15
           },
           "zerolinecolor": "#EBF0F8",
           "zerolinewidth": 2
          }
         }
        },
        "title": {
         "text": "Spending on healthcare by gender and age"
        },
        "width": 800,
        "xaxis": {
         "anchor": "y",
         "domain": [
          0,
          1
         ],
         "title": {
          "text": "Lower age"
         }
        },
        "yaxis": {
         "anchor": "x",
         "domain": [
          0,
          1
         ],
         "title": {
          "text": "Per-person average spending"
         }
        }
       }
      }
     },
     "metadata": {},
     "output_type": "display_data"
    }
   ],
   "source": [
    "import plotly.express as px\n",
    "from policyengine_core.charts import *\n",
    "from policyengine.utils.charts import add_fonts\n",
    "\n",
    "fig = px.line(\n",
    "    nhs.groupby([\"Lower age\", \"Gender\"]).sum().reset_index(),\n",
    "    x=\"Lower age\",\n",
    "    color=\"Gender\",\n",
    "    y=\"Per-person average spending\",\n",
    "    color_discrete_sequence=px.colors.qualitative.T10,\n",
    ").update_layout(\n",
    "    title=\"Spending on healthcare by gender and age\",\n",
    ")\n",
    "\n",
    "format_fig(fig)"
   ]
  },
  {
   "cell_type": "code",
   "execution_count": 39,
   "id": "e367346d",
   "metadata": {},
   "outputs": [
    {
     "data": {
      "text/html": [
       "<div>\n",
       "<style scoped>\n",
       "    .dataframe tbody tr th:only-of-type {\n",
       "        vertical-align: middle;\n",
       "    }\n",
       "\n",
       "    .dataframe tbody tr th {\n",
       "        vertical-align: top;\n",
       "    }\n",
       "\n",
       "    .dataframe thead th {\n",
       "        text-align: right;\n",
       "    }\n",
       "</style>\n",
       "<table border=\"1\" class=\"dataframe\">\n",
       "  <thead>\n",
       "    <tr style=\"text-align: right;\">\n",
       "      <th></th>\n",
       "      <th></th>\n",
       "      <th></th>\n",
       "      <th></th>\n",
       "      <th>Metric</th>\n",
       "      <th>Total</th>\n",
       "    </tr>\n",
       "    <tr>\n",
       "      <th>Lower age</th>\n",
       "      <th>Upper age</th>\n",
       "      <th>Service</th>\n",
       "      <th>Gender</th>\n",
       "      <th></th>\n",
       "      <th></th>\n",
       "    </tr>\n",
       "  </thead>\n",
       "  <tbody>\n",
       "    <tr>\n",
       "      <th>0</th>\n",
       "      <th>1</th>\n",
       "      <th>AE</th>\n",
       "      <th>Female</th>\n",
       "      <td>Total Cost</td>\n",
       "      <td>3.014877e+07</td>\n",
       "    </tr>\n",
       "    <tr>\n",
       "      <th>1</th>\n",
       "      <th>5</th>\n",
       "      <th>AE</th>\n",
       "      <th>Female</th>\n",
       "      <td>Total Cost</td>\n",
       "      <td>7.330343e+07</td>\n",
       "    </tr>\n",
       "    <tr>\n",
       "      <th>5</th>\n",
       "      <th>10</th>\n",
       "      <th>AE</th>\n",
       "      <th>Female</th>\n",
       "      <td>Total Cost</td>\n",
       "      <td>4.900315e+07</td>\n",
       "    </tr>\n",
       "    <tr>\n",
       "      <th>10</th>\n",
       "      <th>15</th>\n",
       "      <th>AE</th>\n",
       "      <th>Female</th>\n",
       "      <td>Total Cost</td>\n",
       "      <td>5.526120e+07</td>\n",
       "    </tr>\n",
       "    <tr>\n",
       "      <th>15</th>\n",
       "      <th>20</th>\n",
       "      <th>AE</th>\n",
       "      <th>Female</th>\n",
       "      <td>Total Cost</td>\n",
       "      <td>7.935531e+07</td>\n",
       "    </tr>\n",
       "    <tr>\n",
       "      <th>...</th>\n",
       "      <th>...</th>\n",
       "      <th>...</th>\n",
       "      <th>...</th>\n",
       "      <td>...</td>\n",
       "      <td>...</td>\n",
       "    </tr>\n",
       "    <tr>\n",
       "      <th>75</th>\n",
       "      <th>80</th>\n",
       "      <th>OP</th>\n",
       "      <th>Male</th>\n",
       "      <td>Total Cost</td>\n",
       "      <td>3.709828e+08</td>\n",
       "    </tr>\n",
       "    <tr>\n",
       "      <th>80</th>\n",
       "      <th>85</th>\n",
       "      <th>OP</th>\n",
       "      <th>Male</th>\n",
       "      <td>Total Cost</td>\n",
       "      <td>2.820061e+08</td>\n",
       "    </tr>\n",
       "    <tr>\n",
       "      <th>85</th>\n",
       "      <th>90</th>\n",
       "      <th>OP</th>\n",
       "      <th>Male</th>\n",
       "      <td>Total Cost</td>\n",
       "      <td>1.545597e+08</td>\n",
       "    </tr>\n",
       "    <tr>\n",
       "      <th>90</th>\n",
       "      <th>95</th>\n",
       "      <th>OP</th>\n",
       "      <th>Male</th>\n",
       "      <td>Total Cost</td>\n",
       "      <td>4.805888e+07</td>\n",
       "    </tr>\n",
       "    <tr>\n",
       "      <th>95</th>\n",
       "      <th>120</th>\n",
       "      <th>OP</th>\n",
       "      <th>Male</th>\n",
       "      <td>Total Cost</td>\n",
       "      <td>8.573042e+06</td>\n",
       "    </tr>\n",
       "  </tbody>\n",
       "</table>\n",
       "<p>126 rows × 2 columns</p>\n",
       "</div>"
      ],
      "text/plain": [
       "                                        Metric         Total\n",
       "Lower age Upper age Service Gender                          \n",
       "0         1         AE      Female  Total Cost  3.014877e+07\n",
       "1         5         AE      Female  Total Cost  7.330343e+07\n",
       "5         10        AE      Female  Total Cost  4.900315e+07\n",
       "10        15        AE      Female  Total Cost  5.526120e+07\n",
       "15        20        AE      Female  Total Cost  7.935531e+07\n",
       "...                                        ...           ...\n",
       "75        80        OP      Male    Total Cost  3.709828e+08\n",
       "80        85        OP      Male    Total Cost  2.820061e+08\n",
       "85        90        OP      Male    Total Cost  1.545597e+08\n",
       "90        95        OP      Male    Total Cost  4.805888e+07\n",
       "95        120       OP      Male    Total Cost  8.573042e+06\n",
       "\n",
       "[126 rows x 2 columns]"
      ]
     },
     "execution_count": 39,
     "metadata": {},
     "output_type": "execute_result"
    }
   ],
   "source": [
    "nhs_indexed[nhs_indexed.Metric == \"Total Cost\"]"
   ]
  }
 ],
 "metadata": {
  "kernelspec": {
   "display_name": ".venv",
   "language": "python",
   "name": "python3"
  },
  "language_info": {
   "codemirror_mode": {
    "name": "ipython",
    "version": 3
   },
   "file_extension": ".py",
   "mimetype": "text/x-python",
   "name": "python",
   "nbconvert_exporter": "python",
   "pygments_lexer": "ipython3",
   "version": "3.11.11"
  }
 },
 "nbformat": 4,
 "nbformat_minor": 5
}
