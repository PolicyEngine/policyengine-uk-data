{
 "cells": [
  {
   "cell_type": "code",
   "execution_count": 3,
   "id": "9f2966b2",
   "metadata": {},
   "outputs": [],
   "source": [
    "from policyengine_uk import Microsimulation\n",
    "from policyengine_uk.data import UKDataset\n",
    "from policyengine_uk_data.datasets.frs import create_frs\n",
    "\n",
    "frs = UKDataset(\"policyengine_uk_data/storage/frs_2022.h5\")"
   ]
  },
  {
   "cell_type": "code",
   "execution_count": 5,
   "id": "9b1e76d6",
   "metadata": {},
   "outputs": [
    {
     "ename": "TypeError",
     "evalue": "calibrate() takes 0 positional arguments but 1 was given",
     "output_type": "error",
     "traceback": [
      "\u001b[0;31m---------------------------------------------------------------------------\u001b[0m",
      "\u001b[0;31mTypeError\u001b[0m                                 Traceback (most recent call last)",
      "Cell \u001b[0;32mIn[5], line 3\u001b[0m\n\u001b[1;32m      1\u001b[0m \u001b[38;5;28;01mfrom\u001b[39;00m\u001b[38;5;250m \u001b[39m\u001b[38;5;21;01mpolicyengine_uk_data\u001b[39;00m\u001b[38;5;21;01m.\u001b[39;00m\u001b[38;5;21;01mdatasets\u001b[39;00m\u001b[38;5;21;01m.\u001b[39;00m\u001b[38;5;21;01mlocal_areas\u001b[39;00m\u001b[38;5;21;01m.\u001b[39;00m\u001b[38;5;21;01mlocal_authorities\u001b[39;00m\u001b[38;5;21;01m.\u001b[39;00m\u001b[38;5;21;01mcalibrate\u001b[39;00m\u001b[38;5;250m \u001b[39m\u001b[38;5;28;01mimport\u001b[39;00m calibrate\n\u001b[0;32m----> 3\u001b[0m frs_calibrated \u001b[38;5;241m=\u001b[39m \u001b[43mcalibrate\u001b[49m\u001b[43m(\u001b[49m\u001b[43mfrs\u001b[49m\u001b[43m)\u001b[49m\n",
      "\u001b[0;31mTypeError\u001b[0m: calibrate() takes 0 positional arguments but 1 was given"
     ]
    }
   ],
   "source": [
    "from policyengine_uk_data.datasets.local_areas.local_authorities.calibrate import calibrate\n",
    "\n",
    "frs_calibrated = calibrate(frs)"
   ]
  }
 ],
 "metadata": {
  "kernelspec": {
   "display_name": "policyengine",
   "language": "python",
   "name": "python3"
  },
  "language_info": {
   "codemirror_mode": {
    "name": "ipython",
    "version": 3
   },
   "file_extension": ".py",
   "mimetype": "text/x-python",
   "name": "python",
   "nbconvert_exporter": "python",
   "pygments_lexer": "ipython3",
   "version": "3.11.13"
  }
 },
 "nbformat": 4,
 "nbformat_minor": 5
}
