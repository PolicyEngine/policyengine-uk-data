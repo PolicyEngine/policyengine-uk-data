{
 "cells": [
  {
   "cell_type": "code",
   "execution_count": 2,
   "id": "e375756a",
   "metadata": {},
   "outputs": [],
   "source": [
    "from policyengine_uk import Microsimulation\n",
    "from policyengine_uk.data import UKDataset\n",
    "\n",
    "dataset = UKDataset(\"policyengine_uk_data/storage/enhanced_frs_2024.h5\")"
   ]
  },
  {
   "cell_type": "code",
   "execution_count": 3,
   "id": "3684c687",
   "metadata": {},
   "outputs": [
    {
     "data": {
      "text/plain": [
       "'2023'"
      ]
     },
     "execution_count": 3,
     "metadata": {},
     "output_type": "execute_result"
    }
   ],
   "source": [
    "dataset.time_period"
   ]
  }
 ],
 "metadata": {
  "kernelspec": {
   "display_name": "policyengine",
   "language": "python",
   "name": "python3"
  },
  "language_info": {
   "codemirror_mode": {
    "name": "ipython",
    "version": 3
   },
   "file_extension": ".py",
   "mimetype": "text/x-python",
   "name": "python",
   "nbconvert_exporter": "python",
   "pygments_lexer": "ipython3",
   "version": "3.11.13"
  }
 },
 "nbformat": 4,
 "nbformat_minor": 5
}
